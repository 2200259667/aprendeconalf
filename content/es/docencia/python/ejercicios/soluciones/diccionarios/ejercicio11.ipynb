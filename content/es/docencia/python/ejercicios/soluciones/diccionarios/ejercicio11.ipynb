{
 "cells": [
  {
   "cell_type": "markdown",
   "metadata": {},
   "source": [
    "## Ejercicio \n",
    "\n",
    "El directorio de los clientes de una empresa está organizado en una cadena de texto como la de más abajo, donde cada línea contiene la información del nombre, email, teléfono, nif, y el descuento que se le aplica. Las líneas se separan con el carácter de cambio de línea `\\n` y la primera línea contiene los nombres de los campos con la información contenida en el directorio.\n",
    "\n",
    "```\n",
    "\"nif;nombre;email;teléfono;descuento\\n01234567L;Luis González;luisgonzalez@mail.com;656343576;12.5\\n71476342J;Macarena Ramírez;macarena@mail.com;692839321;8\\n63823376M;Juan José Martínez;juanjo@mail.com;664888233;5.2\\n98376547F;Carmen Sánchez;carmen@mail.com;667677855;15.7\"\n",
    "```\n",
    "\n",
    "Escribir un programa que genere un diccionario con la información del directorio, donde cada elemento corresponda a un cliente y tenga por clave su nif y por valor otro diccionario con el resto de la información del cliente. Los diccionarios con la información de cada cliente tendrán como claves los nombres de los campos y como valores la información de cada cliente correspondientes a los campos. Es decir, un diccionario como el siguiente\n",
    "\n",
    "```Python\n",
    "{'01234567L': {'nombre': 'Luis González', 'email': 'luisgonzalez@mail.com', 'teléfono': '656343576', 'descuento': 12.5}, '71476342J': {'nombre': 'Macarena Ramírez', 'email': 'macarena@mail.com', 'teléfono': '692839321', 'descuento': 8.0}, '63823376M': {'nombre': 'Juan José Martínez', 'email': 'juanjo@mail.com', 'teléfono': '664888233', 'descuento': 5.2}, '98376547F': {'nombre': 'Carmen Sánchez', 'email': 'carmen@mail.com', 'teléfono': '667677855', 'descuento': 15.7}}\n",
    "```"
   ]
  },
  {
   "cell_type": "markdown",
   "metadata": {},
   "source": [
    "## Solución"
   ]
  },
  {
   "cell_type": "code",
   "execution_count": 4,
   "metadata": {},
   "outputs": [
    {
     "output_type": "stream",
     "name": "stdout",
     "text": [
      "{'01234567L': {'nombre': 'Luis González', 'email': 'luisgonzalez@mail.com', 'teléfono': '656343576', 'descuento': 12.5}, '71476342J': {'nombre': 'Macarena Ramírez', 'email': 'macarena@mail.com', 'teléfono': '692839321', 'descuento': 8.0}, '63823376M': {'nombre': 'Juan José Martínez', 'email': 'juanjo@mail.com', 'teléfono': '664888233', 'descuento': 5.2}, '98376547F': {'nombre': 'Carmen Sánchez', 'email': 'carmen@mail.com', 'teléfono': '667677855', 'descuento': 15.7}}\n"
     ]
    }
   ],
   "source": [
    "# Cadena con los datos de los clientes de la empresa\n",
    "datos_clientes = \"nif;nombre;email;teléfono;descuento\\n01234567L;Luis González;luisgonzalez@mail.com;656343576;12.5\\n71476342J;Macarena Ramírez;macarena@mail.com;692839321;8\\n63823376M;Juan José Martínez;juanjo@mail.com;664888233;5.2\\n98376547F;Carmen Sánchez;carmen@mail.com;667677855;15.7\"\n",
    "# Dividimos la cadena por el caracter de cambio de línea \\n y creamos una lista con las subcadenas\n",
    "lista_clientes = datos_clientes.split('\\n')\n",
    "# Inicializamos el diccionario que va a contener el directorio de clientes a vacío.\n",
    "directorio = {}\n",
    "# Dividimos la cadena del primer elemento de la lista de clientes (que contienen los \n",
    "# nombres de los campos) por el caracter ; y creamos una lista con los campos.\n",
    "lista_campos = lista_clientes[0].split(';') \n",
    "# Bucle iterativo para recorrer los elementos de la lista lista_clientes.\n",
    "# la variable cliente recorre desde el segundo elemento hasta el último elemento de la lista \n",
    "# (el primer elemento contiene los nombres de campo así que no corresponde a un cliente)\n",
    "for i in lista_clientes[1:]:\n",
    "    # Inicializamos el diccionario que va a contener los datos del cliente actual a vacío.\n",
    "    cliente = {}\n",
    "    # Dividimos la cadena i por el caracter ; y creamos una lista con las subcadenas con la\n",
    "    # información del cliente\n",
    "    lista_info = i.split(';') \n",
    "    # Bucle iterativo para recorrer los campos y añadir los pares al diccionario del cliente.\n",
    "    # j toma valores de 1 al número de campos menos 1. El primer elemento (posición 0) corresponde \n",
    "    # al nif y no se añade al diccionario porque se utilizará después como clave en el diccionario\n",
    "    # principal\n",
    "    for j in range(1,len(lista_campos)):\n",
    "        # Condicional. Si el campo actual es descuento convertimos su valor en real\n",
    "        if lista_campos[j] == 'descuento':\n",
    "            lista_info[j] = float(lista_info[j])\n",
    "        cliente[lista_campos[j]] = lista_info[j]\n",
    "    # Añadirmos un par al diccionario del directorio con la clave el nif del cliente y valor\n",
    "    # el diccionario que acabamos de crear con el resto de sus datos.\n",
    "    directorio[lista_info[0]] = cliente\n",
    "# Mostramos el diccionario por pantalla\n",
    "print(directorio)\n",
    "\n",
    "    \n",
    "\n",
    "\n"
   ]
  },
  {
   "cell_type": "code",
   "execution_count": null,
   "metadata": {},
   "outputs": [],
   "source": []
  }
 ],
 "metadata": {
  "kernelspec": {
   "display_name": "Python 3",
   "language": "python",
   "name": "python3"
  },
  "language_info": {
   "codemirror_mode": {
    "name": "ipython",
    "version": 3
   },
   "file_extension": ".py",
   "mimetype": "text/x-python",
   "name": "python",
   "nbconvert_exporter": "python",
   "pygments_lexer": "ipython3",
   "version": "3.9.2-final"
  }
 },
 "nbformat": 4,
 "nbformat_minor": 2
}