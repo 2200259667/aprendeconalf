{
 "cells": [
  {
   "cell_type": "markdown",
   "metadata": {},
   "source": [
    "## Ejercicio\n",
    "\n",
    "Definir la clase `saludo` con un método `saludar` que reciba un <nombre> y muestre por pantalla `hola <nombre>`."
   ]
  },
  {
   "cell_type": "markdown",
   "metadata": {},
   "source": [
    "## Solución"
   ]
  },
  {
   "cell_type": "code",
   "execution_count": 2,
   "metadata": {},
   "outputs": [
    {
     "output_type": "stream",
     "name": "stdout",
     "text": [
      "Hola Alf\n"
     ]
    }
   ],
   "source": [
    "# Definición de la clase saludo\n",
    "class saludo:\n",
    "    # Definición del método saludar\n",
    "    def saludar(self, nombre):\n",
    "        print('Hola', nombre)\n",
    "\n",
    "nombre = input('Introduce tu nombre: ')\n",
    "s = saludo()\n",
    "s.saludar(nombre)"
   ]
  },
  {
   "cell_type": "code",
   "execution_count": null,
   "metadata": {},
   "outputs": [],
   "source": []
  }
 ],
 "metadata": {
  "kernelspec": {
   "display_name": "Python 3",
   "language": "python",
   "name": "python3"
  },
  "language_info": {
   "codemirror_mode": {
    "name": "ipython",
    "version": 3
   },
   "file_extension": ".py",
   "mimetype": "text/x-python",
   "name": "python",
   "nbconvert_exporter": "python",
   "pygments_lexer": "ipython3",
   "version": "3.9.1-final"
  }
 },
 "nbformat": 4,
 "nbformat_minor": 2
}