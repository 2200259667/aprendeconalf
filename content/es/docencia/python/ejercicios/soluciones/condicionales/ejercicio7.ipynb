{
 "cells": [
  {
   "cell_type": "markdown",
   "metadata": {},
   "source": [
    "## Ejercicio \n",
    "\n",
    "Los tramos impositivos para la declaración de la renta en un determinado país son los siguientes:\n",
    "\n",
    "|         Renta          | Tipo impositivo |\n",
    "| :--------------------: | :-------------: |\n",
    "|    Menos de 10000€     |       5%        |\n",
    "| Entre 10000€ y 20000€  |       15%       |\n",
    "| Entre 20000€ y 35000€  |       20%       |\n",
    "| Entre 35000€ y 60000€  |       30%       |\n",
    "|     Más de 60000€      |       45%       |\n",
    "\n",
    "Escribir un programa que pregunte al usuario su renta anual y muestre por pantalla lo que tiene que pagar.\n"
   ]
  },
  {
   "source": [
    "## Solución"
   ],
   "cell_type": "markdown",
   "metadata": {}
  },
  {
   "cell_type": "code",
   "execution_count": 2,
   "metadata": {},
   "outputs": [
    {
     "output_type": "stream",
     "name": "stdout",
     "text": [
      "Tienes que pagar 13703.4€\n"
     ]
    }
   ],
   "source": [
    "# Preguntar al usuario por la renta\n",
    "renta = float(input(\"¿Cuál es tu renta anual? \"))\n",
    "# Condicional para determinar el tipo impositivo dependiendo de la renta\n",
    "if renta < 10000:\n",
    "    tipo = 5\n",
    "elif renta < 20000:\n",
    "    tipo = 15\n",
    "elif renta < 35000:\n",
    "    tipo = 20\n",
    "elif renta < 60000:\n",
    "    tipo = 30\n",
    "else:\n",
    "    tipo = 45\n",
    "# Mostrar por pantalla el producto de la renta por el tipo impositivo\n",
    "print(\"Tienes que pagar \", renta * tipo / 100, \"€\", sep='')"
   ]
  }
 ],
 "metadata": {
  "kernelspec": {
   "display_name": "Python 3",
   "language": "python",
   "name": "python3"
  },
  "language_info": {
   "codemirror_mode": {
    "name": "ipython",
    "version": 3
   },
   "file_extension": ".py",
   "mimetype": "text/x-python",
   "name": "python",
   "nbconvert_exporter": "python",
   "pygments_lexer": "ipython3",
   "version": "3.9.1-final"
  }
 },
 "nbformat": 4,
 "nbformat_minor": 2
}