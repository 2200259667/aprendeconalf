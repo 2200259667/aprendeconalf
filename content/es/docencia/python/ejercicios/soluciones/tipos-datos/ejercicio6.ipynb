{
 "cells": [
  {
   "cell_type": "markdown",
   "metadata": {},
   "source": [
    "## Ejercicio \n",
    "\n",
    "Escribir un programa que lea un entero porsitivo, $n$, introducido por el usuario y después muestre en pantalla la suma de todos los enteros desde 1 hasta $n$. La suma de los $n$ primeros enteros positivos puede ser calculada de la siguiente forma: \n",
    "\n",
    "$$ \\mbox{suma} = \\frac{n(n+1)}{2} $$\n"
   ]
  },
  {
   "cell_type": "markdown",
   "metadata": {},
   "source": [
    "## Solución"
   ]
  },
  {
   "cell_type": "code",
   "execution_count": 1,
   "metadata": {},
   "outputs": [
    {
     "name": "stdout",
     "output_type": "stream",
     "text": "La suma de los primeros números enteros desde 1 hasta 5 es 15.0\n"
    }
   ],
   "source": [
    "n = int(input(\"Introduce un número entero: \"))\n",
    "suma = n * (n + 1) / 2\n",
    "print(\"La suma de los primeros números enteros desde 1 hasta \" + str(n) + \" es \" + str(suma))"
   ]
  }
 ],
 "metadata": {
  "kernelspec": {
   "display_name": "Python 3",
   "language": "python",
   "name": "python3"
  },
  "language_info": {
   "codemirror_mode": {
    "name": "ipython",
    "version": 3
   },
   "file_extension": ".py",
   "mimetype": "text/x-python",
   "name": "python",
   "nbconvert_exporter": "python",
   "pygments_lexer": "ipython3",
   "version": "3.7.4-final"
  }
 },
 "nbformat": 4,
 "nbformat_minor": 2
}