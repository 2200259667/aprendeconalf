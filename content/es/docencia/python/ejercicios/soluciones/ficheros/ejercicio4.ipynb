{
 "cells": [
  {
   "cell_type": "markdown",
   "metadata": {},
   "source": [
    "## Ejercicio\n",
    "\n",
    "Escribir un programa que acceda a un fichero de internet mediante su url y muestre por pantalla el número de palabras que contiene."
   ]
  },
  {
   "cell_type": "markdown",
   "metadata": {},
   "source": [
    "## Solución 1"
   ]
  },
  {
   "cell_type": "code",
   "execution_count": 1,
   "metadata": {},
   "outputs": [
    {
     "name": "stdout",
     "output_type": "stream",
     "text": [
      "389719\n",
      "¡La url https://no-existe.txt no existe!\n"
     ]
    }
   ],
   "source": [
    "def contar_palabras(url):\n",
    "    '''\n",
    "    Función que recibe recibe la url de un fichero de texto y devuelve el número de palabras que contiene.\n",
    "    Parámetros:\n",
    "        url: Es una cadena con la url del fichero de texto.\n",
    "    Devuelve:\n",
    "        El número de palabras que contiene el fichero de texto daro por la url.\n",
    "    '''\n",
    "    from urllib import request\n",
    "    from urllib.error import URLError\n",
    "    try:\n",
    "        f = request.urlopen(url)\n",
    "    except URLError:\n",
    "        return('¡La url ' + url + ' no existe!')\n",
    "    else:\n",
    "        contenido = f.read()\n",
    "        return len(contenido.split())\n",
    "\n",
    "print(contar_palabras('https://www.gutenberg.org/files/2000/2000-0.txt'))\n",
    "print(contar_palabras('https://no-existe.txt'))"
   ]
  },
  {
   "cell_type": "markdown",
   "metadata": {},
   "source": [
    "## Solución 2"
   ]
  },
  {
   "cell_type": "code",
   "execution_count": 2,
   "metadata": {},
   "outputs": [
    {
     "name": "stdout",
     "output_type": "stream",
     "text": [
      "389719\n",
      "¡La url https://no-existe.txt no existe!\n"
     ]
    }
   ],
   "source": [
    "def contar_palabras(url):\n",
    "    '''\n",
    "    Función que recibe recibe la url de un fichero de texto y devuelve el número de palabras que contiene.\n",
    "    Parámetros:\n",
    "        url: Es una cadena con la url del fichero de texto.\n",
    "    Devuelve:\n",
    "        El número de palabras que contiene el fichero de texto daro por la url.\n",
    "    '''\n",
    "    from urllib import request\n",
    "    from urllib.error import URLError\n",
    "    try:\n",
    "        with request.urlopen(url) as f:\n",
    "            contenido = f.read()\n",
    "    except URLError:\n",
    "        return('¡La url ' + url + ' no existe!')\n",
    "    else:\n",
    "        return len(contenido.split())\n",
    "\n",
    "print(contar_palabras('https://www.gutenberg.org/files/2000/2000-0.txt'))\n",
    "print(contar_palabras('https://no-existe.txt'))"
   ]
  }
 ],
 "metadata": {
  "kernelspec": {
   "display_name": "Python 3",
   "language": "python",
   "name": "python3"
  },
  "language_info": {
   "codemirror_mode": {
    "name": "ipython",
    "version": 3
   },
   "file_extension": ".py",
   "mimetype": "text/x-python",
   "name": "python",
   "nbconvert_exporter": "python",
   "pygments_lexer": "ipython3",
   "version": "3.10.4"
  }
 },
 "nbformat": 4,
 "nbformat_minor": 2
}
