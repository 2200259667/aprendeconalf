{
 "cells": [
  {
   "cell_type": "markdown",
   "metadata": {},
   "source": [
    "## Ejercicio\n",
    "\n",
    "Escribir una función que pida un número entero entre 1 y 10 y guarde en un fichero con el nombre `tabla-n.txt` la tabla de multiplicar de ese número, done `n` es el número introducido."
   ]
  },
  {
   "cell_type": "markdown",
   "metadata": {},
   "source": [
    "## Solución 1"
   ]
  },
  {
   "cell_type": "code",
   "execution_count": 2,
   "metadata": {},
   "outputs": [
    {
     "name": "stdout",
     "output_type": "stream",
     "text": [
      "Introduce un número entero entre 1 y 10:  4\n"
     ]
    }
   ],
   "source": [
    "n = int(input('Introduce un número entero entre 1 y 10: '))\n",
    "nombre_fichero = 'tabla-' + str(n) + '.txt'\n",
    "f = open(nombre_fichero, 'w')\n",
    "for i in range(1, 11):\n",
    "    f.write(str(n) + ' x ' + str(i) + ' = ' + str(n * i) + '\\n')\n",
    "f.close()"
   ]
  },
  {
   "cell_type": "markdown",
   "metadata": {},
   "source": [
    "## Solución 2"
   ]
  },
  {
   "cell_type": "code",
   "execution_count": 1,
   "metadata": {},
   "outputs": [],
   "source": [
    "n = int(input('Introduce un número entero entre 1 y 10: '))\n",
    "nombre_fichero = 'tabla-' + str(n) + '.txt'\n",
    "with open(nombre_fichero, 'w') as f:\n",
    "    for i in range(1, 11):\n",
    "        f.write(str(n) + ' x ' + str(i) + ' = ' + str(n * i) + '\\n')"
   ]
  }
 ],
 "metadata": {
  "kernelspec": {
   "display_name": "Python 3",
   "language": "python",
   "name": "python3"
  },
  "language_info": {
   "codemirror_mode": {
    "name": "ipython",
    "version": 3
   },
   "file_extension": ".py",
   "mimetype": "text/x-python",
   "name": "python",
   "nbconvert_exporter": "python",
   "pygments_lexer": "ipython3",
   "version": "3.10.4"
  }
 },
 "nbformat": 4,
 "nbformat_minor": 2
}
