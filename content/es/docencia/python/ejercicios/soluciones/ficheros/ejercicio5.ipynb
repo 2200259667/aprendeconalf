{
 "cells": [
  {
   "cell_type": "markdown",
   "metadata": {},
   "source": [
    "## Ejercicio\n",
    "\n",
    "Escribir un programa que abra el fichero con información sobre el PIB per cápita de los países de la Unión Europea (url: `https://ec.europa.eu/eurostat/estat-navtree-portlet-prod/BulkDownloadListing?file=data/sdg_08_10.tsv.gz&unzip=true`), pregunte por las iniciales de un país y muestre el PIB per cápita de ese país de todos los años disponibles."
   ]
  },
  {
   "cell_type": "markdown",
   "metadata": {},
   "source": [
    "## Solución 1"
   ]
  },
  {
   "cell_type": "code",
   "execution_count": 4,
   "metadata": {},
   "outputs": [
    {
     "name": "stdout",
     "output_type": "stream",
     "text": [
      "Producto Interior Bruto per cápita de ES\n",
      "Año\tPIB\n",
      "2000 \t 21460\n",
      "2001 \t 22190\n",
      "2002 \t 22430\n",
      "2003 \t 22680\n",
      "2004 \t 23020\n",
      "2005 \t 23420\n",
      "2006 \t 24000\n",
      "2007 \t 24380\n",
      "2008 \t 24200\n",
      "2009 \t 23100\n",
      "2010 \t 23040\n",
      "2011 \t 22770\n",
      "2012 \t 22080\n",
      "2013 \t 21840\n",
      "2014 \t 22210\n",
      "2015 \t 23080\n",
      "2016 \t 23760\n",
      "2017 \t 24430\n",
      "2018 \t 24880\n",
      "2019 \t 25200 p\n",
      "2020 \t 22350 p\n",
      "2021 \t 23510 p\n"
     ]
    }
   ],
   "source": [
    "def parsear_pib(url):\n",
    "    '''\n",
    "    Función que parsea un fichero con pibs de países.\n",
    "    Parámetros:\n",
    "        url: Es una cadena con la url del fichero de texto que contiene el pib per cápita.\n",
    "    Devuelve:\n",
    "        Un diccionario con pares pais:pibs donde pibs es, a su vez, un diccionario con los años y los pibs del país.\n",
    "    '''\n",
    "    from urllib import request\n",
    "    from urllib.error import URLError\n",
    "    try:\n",
    "        with request.urlopen(url) as f:\n",
    "            datos = f.read().decode('utf-8').split('\\n') # Leer los datos y guardar cada línea en una lista.\n",
    "    except URLError:\n",
    "        return('¡La url ' + url + ' no existe!')\n",
    "    else:\n",
    "        # Obtenemos los años de la primera linea del fichero.\n",
    "        años = datos.pop(0).split('\\t')[1:]\n",
    "        # Creamos el diccionario prinpipal para guardar los pibs de todos los países.\n",
    "        dict_pibs = {}\n",
    "        # Bucle iterativo para recorrer las líneas del fichero.\n",
    "        for pais in datos:\n",
    "            datos_pais = pais.split('\\t')\n",
    "            # Obtenemos el código del país de los dos últimos caracteres del primer campo de la linea.\n",
    "            codigo_pais = datos_pais.pop(0)[-2:]\n",
    "            # Construimos un diccionario con los años y el pib del pais.\n",
    "            dict_pais = {}\n",
    "            # Bucle iterativo para recorrer los pibs del país.\n",
    "            for i in range(len(datos_pais)):\n",
    "                dict_pais[años[i].strip()] = datos_pais[i].strip()\n",
    "            # Añadimos el diccionario con los pib del país al diccionario principal\n",
    "            dict_pibs[codigo_pais] = dict_pais\n",
    "        return dict_pibs\n",
    "\n",
    "def pib(pibs, pais = \"ES\"):\n",
    "    '''\n",
    "    Función que recibe un diccionario con los pibs de los países y muestra por pantalla los pibs de un país dado.\n",
    "\n",
    "    Parámetros:\n",
    "        - pibs: Es un diccionario con los pibs de los países como el que devuelve la función parsear_pibs.\n",
    "        - pais: Es una cadena con el código del país.\n",
    "\n",
    "    Salida:\n",
    "        Muestra por pantalla los pibs del país indicado.\n",
    "    '''\n",
    "\n",
    "    print(\"Año\\tPIB\")\n",
    "    for i, j in pibs[pais].items():\n",
    "        print(i, '\\t', j)\n",
    "\n",
    "pais = input('Introduce el código de un país: ')\n",
    "print('Producto Interior Bruto per cápita de', pais)\n",
    "pib(parsear_pib(\"https://ec.europa.eu/eurostat/estat-navtree-portlet-prod/BulkDownloadListing?file=data/sdg_08_10.tsv.gz&unzip=true\"), pais)\n",
    "\n"
   ]
  },
  {
   "cell_type": "markdown",
   "metadata": {},
   "source": [
    "## Solución 2"
   ]
  },
  {
   "cell_type": "code",
   "execution_count": 1,
   "metadata": {},
   "outputs": [
    {
     "name": "stdout",
     "output_type": "stream",
     "text": [
      "Producto Interior Bruto per cápita de ES\n",
      "Año\tPIB\n",
      "2000 \t 21460\n",
      "2001 \t 22190\n",
      "2002 \t 22430\n",
      "2003 \t 22680\n",
      "2004 \t 23020\n",
      "2005 \t 23420\n",
      "2006 \t 24000\n",
      "2007 \t 24380\n",
      "2008 \t 24200\n",
      "2009 \t 23100\n",
      "2010 \t 23040\n",
      "2011 \t 22770\n",
      "2012 \t 22080\n",
      "2013 \t 21840\n",
      "2014 \t 22210\n",
      "2015 \t 23080\n",
      "2016 \t 23760\n",
      "2017 \t 24430\n",
      "2018 \t 24880\n",
      "2019 \t 25200 p\n",
      "2020 \t 22350 p\n",
      "2021 \t 23510 p\n"
     ]
    }
   ],
   "source": [
    "def pib_pais(url, pais = \"ES\"):\n",
    "    '''\n",
    "    Función que muestra por pantalla el pib per cápita un país dado de los años disponibles en un fichero dado.\n",
    "    Parámetros:\n",
    "        url: Es una cadena con la url del fichero de texto que contiene el pib per cápita.\n",
    "        pais: Es una cadena con el código del país. \n",
    "    Devuelve:\n",
    "        Un diccionario con pares año:pib del país dado que hay en el fichero con la url dada.\n",
    "    '''\n",
    "    from urllib import request\n",
    "    from urllib.error import URLError\n",
    "    try:\n",
    "        with request.urlopen(url) as f:\n",
    "            datos = f.read().decode('utf-8').split('\\n') # Leer los datos y guardar cada línea en una lista\n",
    "    except URLError:\n",
    "        return('¡La url ' + url + ' no existe!')\n",
    "    else:\n",
    "        datos = [i.split('\\t') for i in datos] # Dividir cada línea por el tabulador\n",
    "        datos = [list(map(str.strip, i)) for i in datos] # Eliminar espacios en blanco\n",
    "        for i in datos:\n",
    "            i[0] = i[0][-2:] # Obtener el código del país de los dos últimos caracteres del primer elemento de la lista\n",
    "        datos[0][0] = 'años'\n",
    "        # Creamos un diccionario con claves los códiogos de los países y valores la lista de sus pibs (a excepción del primer par que contiene los años).\n",
    "        datos = {i[0]:i[1:] for i in datos}\n",
    "        # Creamos y devolvemos el diccionario con los pibs del país\n",
    "        return {datos['años'][i]:datos[pais][i] for i in range(len(datos['años']))}\n",
    "\n",
    "pais = input('Introduce el código de un país: ')\n",
    "print('Producto Interior Bruto per cápita de', pais)\n",
    "print(\"Año\\tPIB\")\n",
    "for i, j in pib_pais(\"https://ec.europa.eu/eurostat/estat-navtree-portlet-prod/BulkDownloadListing?file=data/sdg_08_10.tsv.gz&unzip=true\", pais).items():\n",
    "    print(i, '\\t', j)"
   ]
  }
 ],
 "metadata": {
  "interpreter": {
   "hash": "e7370f93d1d0cde622a1f8e1c04877d8463912d04d973331ad4851f04de6915a"
  },
  "kernelspec": {
   "display_name": "Python 3.10.4 64-bit",
   "language": "python",
   "name": "python3"
  },
  "language_info": {
   "codemirror_mode": {
    "name": "ipython",
    "version": 3
   },
   "file_extension": ".py",
   "mimetype": "text/x-python",
   "name": "python",
   "nbconvert_exporter": "python",
   "pygments_lexer": "ipython3",
   "version": "3.10.4"
  }
 },
 "nbformat": 4,
 "nbformat_minor": 2
}
