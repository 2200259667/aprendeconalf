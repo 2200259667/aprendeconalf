{
 "cells": [
  {
   "cell_type": "markdown",
   "metadata": {},
   "source": [
    "## Ejercicio\n",
    "\n",
    "Escribir un programa que pregunte el nombre el un producto, su precio y un número de unidades y muestre por pantalla una cadena con el siguiente formato:\n",
    "\n",
    "`<producto>: <unidades> unidades x <precio>€ = <total>€`\n",
    " \n",
    "donde `<unidades>` es el número de unidades con cinco dígitos, `<precio>` es el precio unitario con 6 dígitos enteros y 2 decimales y `<total>` es el coste total con 8 dígitos enteros y 2 decimales."
   ]
  },
  {
   "cell_type": "markdown",
   "metadata": {},
   "source": [
    "## Solución"
   ]
  },
  {
   "cell_type": "code",
   "execution_count": 4,
   "metadata": {},
   "outputs": [
    {
     "output_type": "stream",
     "name": "stdout",
     "text": [
      "Teléfono Acme: 200 unidades x    630.25€ =   126050.00€\n"
     ]
    }
   ],
   "source": [
    "producto = input('Introduce el nombre del producto: ')\n",
    "precio = float(input('Introducde el precio unitario: '))\n",
    "unidades = int(input('Introduce el número de unidades: '))\n",
    "print('{producto}: {unidades:3d} unidades x {precio:9.2f}€ = {total:11.2f}€'.format(producto = producto, unidades = unidades, precio = precio, total = unidades * precio))"
   ]
  },
  {
   "cell_type": "code",
   "execution_count": null,
   "metadata": {},
   "outputs": [],
   "source": []
  }
 ],
 "metadata": {
  "kernelspec": {
   "display_name": "Python 3",
   "language": "python",
   "name": "python3"
  },
  "language_info": {
   "codemirror_mode": {
    "name": "ipython",
    "version": 3
   },
   "file_extension": ".py",
   "mimetype": "text/x-python",
   "name": "python",
   "nbconvert_exporter": "python",
   "pygments_lexer": "ipython3",
   "version": "3.9.1-final"
  }
 },
 "nbformat": 4,
 "nbformat_minor": 2
}