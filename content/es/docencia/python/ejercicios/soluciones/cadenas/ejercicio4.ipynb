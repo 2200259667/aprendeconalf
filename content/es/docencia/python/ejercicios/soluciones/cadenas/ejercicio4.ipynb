{
 "cells": [
  {
   "source": [
    "## Ejercicio\n",
    "\n",
    "Los teléfonos de una empresa tienen el siguiente formato `prefijo-número-extension` donde el prefijo es el código del país `+34`, y la extensión tiene dos dígitos (por ejemplo `+34-913724710-56`). Escribir un programa que pregunte por un número de teléfono con este formato en la consola y muestre por pantalla el número de teléfono sin el prefijo y la extensión."
   ],
   "cell_type": "markdown",
   "metadata": {}
  },
  {
   "cell_type": "markdown",
   "metadata": {},
   "source": [
    "## Solución"
   ]
  },
  {
   "cell_type": "code",
   "execution_count": 1,
   "metadata": {},
   "outputs": [
    {
     "output_type": "stream",
     "name": "stdout",
     "text": [
      "El número de teléfono es  913724710\n"
     ]
    }
   ],
   "source": [
    "tel = input(\"Introduce un número de teléfono con el formato +xx-xxxxxxxxx-xx: \")\n",
    "print('El número de teléfono es ', tel[4:-3])"
   ]
  }
 ],
 "metadata": {
  "kernelspec": {
   "display_name": "Python 3",
   "language": "python",
   "name": "python3"
  },
  "language_info": {
   "codemirror_mode": {
    "name": "ipython",
    "version": 3
   },
   "file_extension": ".py",
   "mimetype": "text/x-python",
   "name": "python",
   "nbconvert_exporter": "python",
   "pygments_lexer": "ipython3",
   "version": "3.8.6-final"
  }
 },
 "nbformat": 4,
 "nbformat_minor": 2
}