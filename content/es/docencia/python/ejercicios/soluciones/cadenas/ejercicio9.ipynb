{
 "cells": [
  {
   "cell_type": "markdown",
   "metadata": {},
   "source": [
    "## Ejercicio\n",
    "\n",
    "Escribir un programa que pregunte al usuario la fecha de su nacimiento en formato `dd/mm/aaaa` y muestra por pantalla, el día, el mes y el año."
   ]
  },
  {
   "cell_type": "markdown",
   "metadata": {},
   "source": [
    "## Solución 1"
   ]
  },
  {
   "source": [
    "fecha = input(\"Introduce la fecha de tu nacimiento en formato dd/mm/aaaa: \")\n",
    "print('Día', fecha[:2])\n",
    "print('Mes', fecha[3:5])\n",
    "print('Año', fecha[6:])"
   ],
   "cell_type": "code",
   "metadata": {},
   "execution_count": 5,
   "outputs": [
    {
     "output_type": "stream",
     "name": "stdout",
     "text": [
      "Día 03\nMes 04\nAño 2012\n"
     ]
    }
   ]
  },
  {
   "source": [
    "Adaptar el programa anterior para que también funcione cuando el día o el mes se introduzcan con un solo carácter."
   ],
   "cell_type": "markdown",
   "metadata": {}
  },
  {
   "cell_type": "code",
   "execution_count": 3,
   "metadata": {},
   "outputs": [
    {
     "output_type": "stream",
     "name": "stdout",
     "text": [
      "Día 3\nMes 4\nAño 2012\n"
     ]
    }
   ],
   "source": [
    "fecha = input(\"Introduce la fecha de tu nacimiento en formato día/mes/año: \")\n",
    "dia = fecha[:fecha.find('/')]\n",
    "mesaño = fecha[fecha.find('/')+1:]\n",
    "mes = mesaño[:mesaño.find('/')]\n",
    "año = mesaño[mesaño.find('/')+1:]\n",
    "print('Día', dia)\n",
    "print('Mes', mes)\n",
    "print('Año', año)"
   ]
  },
  {
   "cell_type": "code",
   "execution_count": null,
   "metadata": {},
   "outputs": [],
   "source": []
  }
 ],
 "metadata": {
  "kernelspec": {
   "display_name": "Python 3",
   "language": "python",
   "name": "python3"
  },
  "language_info": {
   "codemirror_mode": {
    "name": "ipython",
    "version": 3
   },
   "file_extension": ".py",
   "mimetype": "text/x-python",
   "name": "python",
   "nbconvert_exporter": "python",
   "pygments_lexer": "ipython3",
   "version": "3.9.1-final"
  }
 },
 "nbformat": 4,
 "nbformat_minor": 2
}