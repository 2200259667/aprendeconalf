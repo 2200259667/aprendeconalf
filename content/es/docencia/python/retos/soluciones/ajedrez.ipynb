{
 "cells": [
  {
   "cell_type": "markdown",
   "metadata": {},
   "source": [
    "# Tarea 1\n",
    "La primera tarea consiste en escribir un programa que guarde en un fichero la secuencia de tableros de una partida de ajedrez. Partiremos del tablero inicial donde las filas del tablero están separadas por cambios de línea y las columnas por tabuladores.\n",
    "\n",
    "El programa debe guardar el tablero inicial en un fichero con el nombre que elija el usuario. Después debe preguntar al usuario si quiere hacer un movimiento o terminar la partida. Cada vez que el usuario quiera hacer un nuevo movimiento debe preguntar la fila y la columna de la pieza que quiere mover y la fila y la columna a la que la quiere mover. Tras ello añadirá el tablero resultante al final del fichero anterior.\n",
    "\n",
    "El fichero [partida-ajedrez.txt](http://aprendeconalf.es/python/retos/doc/partida-ajedrez.txt) contiene un ejemplo con el fichero resultante de una partida con 3 movimientos."
   ]
  },
  {
   "cell_type": "markdown",
   "metadata": {},
   "source": [
    "# Solución"
   ]
  },
  {
   "source": [
    "def partida_ajedrez(nombre_fichero):\n",
    "    ''' Función que guarda los tableros de una partida de ajedrez en un fichero.\n",
    "\n",
    "    Parámetros: \n",
    "        - nombre_fichero: Es una cadena con el nombre del fichero.\n",
    "    '''\n",
    "    # Representamos un tablero como una cadena separando las filas por cambios de línea y las columnas por tabuladores.\n",
    "    tablero_inicial = '♜\\t♞\\t♝\\t♛\\t♚\\t♝\\t♞\\t♜\\n♟\\t♟\\t♟\\t♟\\t♟\\t♟\\t♟\\t♟\\n\\t\\t\\t\\t\\t\\t\\t\\n\\t\\t\\t\\t\\t\\t\\t\\n\\t\\t\\t\\t\\t\\t\\t\\n\\t\\t\\t\\t\\t\\t\\t\\n♙\\t♙\\t♙\\t♙\\t♙\\t♙\\t♙\\t♙\\n♖\\t♘\\t♗\\t♕\\t♔\\t♗\\t♘\\t♖'\n",
    "    # Creamos una lista vacía para añadir las filas del tablero-\n",
    "    tablero =  []\n",
    "    # Bucle iterativo para recorrer las filas del tablero.partida_ajedrez.\n",
    "    # i toma como valores los elementos las subcadenas resultantes de partir la cadena del tablero por el caracter de cambio de línea.\n",
    "    for i in tablero_inicial.split('\\n'):\n",
    "        # Dividimos al tablero la lista que resulta de dividir la subcadena i por el caracter de tabulación.\n",
    "        tablero.append(i.split('\\t'))\n",
    "    # Abrimos el fichero en modo escritura\n",
    "    f = open(nombre_fichero, 'w')\n",
    "    # Bucle iterativo para recorrer las filas del tablero.\n",
    "    # i toma como valores cada una de las listas (filas) del tablero.\n",
    "    for i in tablero:\n",
    "        # Escribirmos cada fila en una línea concatenando los caracteres que contiene.\n",
    "        f.write('\\t'.join(i) + '\\n')\n",
    "    # Cerramos el fichero.\n",
    "    f.close()\n",
    "    # Empieza la partida inicializando un contador de movimientos a cero.\n",
    "    movimiento = 0\n",
    "    # Bucle condicional para realizar movimientos en la partida hasta que el usario decida terminar.\n",
    "    while True:\n",
    "        # Preguntamos al usuario si quiere realizar otro movimiento.\n",
    "        continuar = input('Deseas hacer otro movimiento (s/n): ')\n",
    "        # Condicional para ver si el usuario ha respondido si.\n",
    "        if continuar != 's':\n",
    "            # Si el usuario no ha contestado que si, salimos del bucle condicional para terminar la partida.\n",
    "            break\n",
    "        else:\n",
    "            # Si el usuario quiere hacer otro movimiento preguntamos por las coordenadas de las casillas de origen y destino.\n",
    "            fila_origen = int(input('Introduce la fila de la pieza a mover: '))\n",
    "            columna_origen = int(input('Introduce la columna de la pieza a mover: '))\n",
    "            fila_destino = int(input('Introduce la fila de destino: '))\n",
    "            columna_destino = int(input('Introduce la columna de destino: '))\n",
    "            # Hacemos el movimiento en el tablero\n",
    "            tablero[fila_destino-1][columna_destino-1] = tablero[fila_origen-1][columna_origen-1]\n",
    "            tablero[fila_origen-1][columna_origen-1] = ''\n",
    "            # Incrementamos el contador de movimientos en 1.\n",
    "            movimiento += 1\n",
    "            # Abrimos el fichero en modo añadir.\n",
    "            f = open(nombre_fichero, 'a')\n",
    "            # Añadimos una cadena con el número de movimiento.\n",
    "            f.write('Movimiento' + str(movimiento) + '\\n')\n",
    "            # Bucle iterativo para recorrer las filas del tablero.\n",
    "    # i toma como valores cada una de las listas (filas) del tablero.\n",
    "            for i in tablero:\n",
    "                # Escribirmos cada fila en una línea concatenando los caracteres que contiene.\n",
    "                f.write('\\t'.join(i) + '\\n')\n",
    "            # Cerramos el fichero.\n",
    "            f.close()\n",
    "    return\n",
    "\n",
    "partida_ajedrez('partida1.txt')"
   ],
   "cell_type": "code",
   "metadata": {},
   "execution_count": 3,
   "outputs": []
  },
  {
   "source": [
    "# Tarea 2\n",
    "Una vez generado el fichero con los tableros sucesivos de una partida de ajedrez, el programa preguntará por un movimiento y mostrará por pantalla el tablero correspondiente ese movimiento.\n",
    "Por ejemplo, utilizando el fichero [partida-ajedrez.txt](doc/partida-ajedrez.txt), si el usuario introduce el movimiento 2, debería mostrar por pantalla el siguiente tablero:\n",
    "\n",
    "```sh\n",
    "♜\t♞\t♝\t♛\t♚\t♝\t♞\t♜\n",
    "♟\t♟\t♟\t\t♟\t♟\t♟\t♟\n",
    "\t\t\t\t\t\t\t\n",
    "\t\t\t♟\t\t\t\t\n",
    "\t\t\t\t\t\t♙\t\n",
    "\t\t\t\t\t\t\t\n",
    "♙\t♙\t♙\t♙\t♙\t♙\t\t♙\n",
    "♖\t♘\t♗\t♕\t♔\t♗\t♘\t♖\n",
    "```"
   ],
   "cell_type": "markdown",
   "metadata": {}
  },
  {
   "cell_type": "code",
   "execution_count": 6,
   "metadata": {},
   "outputs": [
    {
     "output_type": "stream",
     "name": "stdout",
     "text": [
      "♜\t♞\t♝\t♛\t♚\t♝\t♞\t♜\n♟\t♟\t♟\t\t♟\t♟\t♟\t♟\n\t\t\t\t\t\t\t\n\t\t\t♟\t\t\t\t\n\t\t\t\t♙\t\t\t\n\t\t\t\t\t\t\t\n♙\t♙\t♙\t♙\t\t♙\t♙\t♙\n♖\t♘\t♗\t♕\t♔\t♗\t♘\t♖\n"
     ]
    }
   ],
   "source": [
    "def tablero(nombre_fichero, n):\n",
    "    ''' Función que muestra por pantalla el tablero n de una partida de ajedrez. \n",
    "\n",
    "    Parámetros:\n",
    "        - nombre_fichero: Es una cadena con el nombre del fichero que contiene la sucesión de tableros de la partida de ajedrez.\n",
    "        - n: Es un entero con el número del tablero que se tiene que mostrar.\n",
    "    '''\n",
    "\n",
    "    # Abrimos el fichero en modo lectura\n",
    "    f = open(nombre_fichero, 'r')\n",
    "    # Leemos el contenido del fichero en una cadena y la dividimos por el caracter de cambio de línea.\n",
    "    tableros = f.read().split('\\n')\n",
    "    # Bucle para imprimir las lineas correspondientes al tablero. Cada tablero empieza siempre en una línea múltiplo de 9.\n",
    "    for i in tableros[n*9:n*9+8]:\n",
    "        print(i)\n",
    "    return\n",
    "\n",
    "tablero('partida1.txt', 2)\n",
    "\n"
   ]
  },
  {
   "cell_type": "code",
   "execution_count": null,
   "metadata": {},
   "outputs": [],
   "source": []
  }
 ],
 "metadata": {
  "kernelspec": {
   "display_name": "Python 3",
   "language": "python",
   "name": "python3"
  },
  "language_info": {
   "codemirror_mode": {
    "name": "ipython",
    "version": 3
   },
   "file_extension": ".py",
   "mimetype": "text/x-python",
   "name": "python",
   "nbconvert_exporter": "python",
   "pygments_lexer": "ipython3",
   "version": "3.9.4-final"
  }
 },
 "nbformat": 4,
 "nbformat_minor": 2
}