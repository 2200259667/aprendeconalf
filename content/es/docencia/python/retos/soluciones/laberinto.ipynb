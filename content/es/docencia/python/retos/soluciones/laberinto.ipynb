{
 "cells": [
  {
   "cell_type": "markdown",
   "metadata": {},
   "source": [
    "# Tarea 1\n",
    "La primera tarea consiste en construir un laberinto como el de la siguiente figura.\n",
    "\n",
    "![Laberinto](http://aprendeconalf.es/python/retos/img/laberinto.png)\n",
    "\n",
    "El laberinto se representará como una una lista de listas, donde cada lista es una fila del laberinto y cada casilla se representará con un espacio ' ' si hay paso o con la letra 'X' si hay un muro, tal y como se muestra a continuación:\n",
    "\n",
    "```Python\n",
    "laberinto = [\n",
    "    [' ', 'X', 'X', 'X', 'X'], \n",
    "    [' ', 'X', ' ', ' ', ' '],\n",
    "    [' ', 'X', ' ', 'X', ' '], \n",
    "    [' ', ' ', ' ', 'X', ' '], \n",
    "    ['X', 'X', 'X', 'X', 'S']\n",
    "    ]\n",
    "```\n",
    "\n",
    "El laberinto se debe crear a partir de una tupla con las coordenadas de las casillas donde hay muro, como la siguiente:\n",
    "\n",
    "```Python\n",
    "muro = ((0,1), (0,2), (0,3), (0,4), (1,1), (2,1), (2,3), (3,3), (4,0), (4,1), (4,2), (4,3))\n",
    "```"
   ]
  },
  {
   "cell_type": "markdown",
   "metadata": {},
   "source": [
    "# Solución"
   ]
  },
  {
   "source": [
    "def laberinto(dimension, muros):\n",
    "    ''' Función que construye un laberinto cuadrado de una dimensión dada poniendo.\n",
    "\n",
    "    Parámetros:\n",
    "        - dimension: Es un entero con la dimensión del laberinto. \n",
    "        - muros: Es una lista de tuplas con las coordenadas (x,y) donde hay muros.\n",
    "\n",
    "    Salida: \n",
    "        Una matriz (lista de listas) que representa el laberinto. \n",
    "    '''\n",
    "\n",
    "    # Creamos una lista vacía para añadir las filas del laberinto.\n",
    "    laberinto = []\n",
    "    # Bucle iterativo para añadir las filas del laberinto.\n",
    "    # i toma valores de 0 a dimension-1 \n",
    "    for i in range(dimension):\n",
    "        # Creamos una lista vacía para añadir las casillas de la fila.\n",
    "        fila = []\n",
    "        # Bucle iterativo para recorrer las columnas del laberinto.\n",
    "        # j toma valores de 0 a dimension-1.\n",
    "        for j in range(dimension):\n",
    "            # Condicional para comprobar si la tupla está en el la lista de muros.\n",
    "            if tuple([i, j]) in muro:\n",
    "                # Si la tupla está en la lista de muros ponemos una X en la casilla.\n",
    "                fila.append('X')\n",
    "            else:\n",
    "                # Si la tupla no está en el muro ponemos un espacio en blanco en la casilla.\n",
    "                fila.append(' ')\n",
    "        laberinto.append(fila)\n",
    "    return laberinto\n",
    "\n",
    "# Tupla de coordenadas de las celdas con muro en el laberinto\n",
    "muro = ((0,1), (0,2), (0,3), (0,4), (1,1), (2,1), (2,3), (3,3), (4,0), (4,1), (4,2), (4,3)) \n",
    "lab = laberinto(5, muro)   \n",
    "\n",
    "# Mostrar el laberinto por pantalla\n",
    "for i in lab:\n",
    "    print(''.join(i))\n"
   ],
   "cell_type": "code",
   "metadata": {},
   "execution_count": 2,
   "outputs": [
    {
     "output_type": "stream",
     "name": "stdout",
     "text": [
      " XXXX\n X   \n X X \n   X \nXXXX \n"
     ]
    }
   ]
  },
  {
   "source": [
    "# Tarea 2\n",
    "La seguda tarea a resolver consiste en construir un programa para recorrer el laberinto desde la entrada a la salida. La entrada siempre está en la esquina superior izquierda y la salida en la esquina inferior derecha.\n",
    "\n",
    "El programa debe devolver una lista con la secuencia de movimientos para ir de la entrada a la salida del laberinto, tal y como se muestra a continuación:\n",
    "\n",
    "```Python\n",
    "['Abajo', 'Abajo', 'Abajo', 'Abajo', 'Derecha', 'Derecha', 'Arriba', 'Arriba', 'Derecha', 'Derecha', 'Abajo', 'Abajo', 'Abajo']\n",
    "```"
   ],
   "cell_type": "markdown",
   "metadata": {}
  },
  {
   "cell_type": "code",
   "execution_count": 3,
   "metadata": {},
   "outputs": [
    {
     "output_type": "stream",
     "name": "stdout",
     "text": [
      "Solución:  ['Abajo', 'Abajo', 'Abajo', 'Abajo', 'Derecha', 'Derecha', 'Arriba', 'Arriba', 'Derecha', 'Derecha']\n"
     ]
    }
   ],
   "source": [
    "def recorre_laberinto(laberinto):\n",
    "    '''Función que busca la salida de un laberinto.\n",
    "    \n",
    "    Parámetros:\n",
    "        - laberinto: Es una matriz cuadrada (lista de listas) que representa el laberinto con el caracter X donde hay un muro.\n",
    "    \n",
    "    Salida:\n",
    "        Una lista de tuplas con las coordenadas (x,y) de los pasos que hay que dar para recorrer el laberinto. \n",
    "    '''\n",
    "    # Fila y columnas iniciales\n",
    "    fila = columna = 0\n",
    "    # Lista de movimientos\n",
    "    movimientos = ['Abajo']\n",
    "    while (fila < n-1 and columna < n-1):\n",
    "        if movimientos[-1] != 'Arriba' and fila + 1 < n and laberinto[fila + 1][columna] != 'X':\n",
    "            fila += 1\n",
    "            movimientos.append('Abajo')\n",
    "        elif movimientos[-1] != 'Abajo' and fila - 1 > 0 and laberinto[fila - 1][columna] != 'X':\n",
    "            fila -= 1\n",
    "            movimientos.append('Arriba')\n",
    "        elif movimientos[-1] != 'Izquierda' and columna + 1 < n and laberinto[fila][columna + 1] != 'X':\n",
    "            columna += 1\n",
    "            movimientos.append('Derecha')\n",
    "        elif movimientos[-1] != 'Derecha' and columna - 1 > 0 and laberinto[fila][columna - 1] != 'X':\n",
    "            columna -= 1\n",
    "            movimientos.append('Izquierda')\n",
    "        else:\n",
    "            movimientos.append('No hay salida')\n",
    "    return movimientos\n",
    "\n",
    "# Mostrar por pantalla la lista de movimientos\n",
    "print('Solución: ', recorre_laberinto(lab))"
   ]
  },
  {
   "cell_type": "code",
   "execution_count": null,
   "metadata": {},
   "outputs": [],
   "source": []
  }
 ],
 "metadata": {
  "kernelspec": {
   "display_name": "Python 3",
   "language": "python",
   "name": "python3"
  },
  "language_info": {
   "codemirror_mode": {
    "name": "ipython",
    "version": 3
   },
   "file_extension": ".py",
   "mimetype": "text/x-python",
   "name": "python",
   "nbconvert_exporter": "python",
   "pygments_lexer": "ipython3",
   "version": "3.9.4-final"
  }
 },
 "nbformat": 4,
 "nbformat_minor": 2
}