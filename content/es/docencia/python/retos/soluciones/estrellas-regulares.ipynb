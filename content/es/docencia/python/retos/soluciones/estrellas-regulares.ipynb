{
 "cells": [
  {
   "cell_type": "markdown",
   "metadata": {},
   "source": [
    "# Tarea\n",
    "\n",
    "El reto consiste en programar una función que dibuje estrellas como la que aparece a continuación con un número de puntas dado.\n",
    "\n",
    "![Estrella](http://aprendeconalf.es/python/retos/img/estrella.png)\n",
    "\n",
    "Para ello hay que utilizar el módulo de Python [Turtle](https://docs.python.org/3/library/turtle.html) que permite realizar trazos sencillos en una ventana gráfica.\n",
    "\n",
    "En el siguiente video hay una [introdución básica al módulo Turtle](https://youtu.be/cX9efszLbJw).\n",
    "\n",
    "Y también dispones de una [hoja de resumen con las principales funciones de Turtle](doc/PythonTurtle-cheatsheet.pdf)."
   ]
  },
  {
   "cell_type": "markdown",
   "metadata": {},
   "source": [
    "# Solución"
   ]
  },
  {
   "source": [
    "def estrella(puntas, lado=150):\n",
    "    ''' Función que dibuja una estrella regular de un número de puntas dado haciendo uso del módulo Turtle.\n",
    "\n",
    "    Parámetros:\n",
    "        - puntas: Es un entero con el número de puntas de la estrella.\n",
    "        - lado: Es un entero con el tamaño de los lados de la estrella.\n",
    "    '''\n",
    "\n",
    "    import turtle\n",
    "\n",
    "    # Función para calcular el máximo común divisor de dos números enteros por el algoritmo de euclides. Se necesita para calcular el ángulo de rotación.\n",
    "    def mcd(a, b):\n",
    "        while b != 0:\n",
    "            a, b = b, a % b\n",
    "        return a\n",
    "\n",
    "    # Condicional para avisar de que el número de puntas debe ser mayor que 4. Si no no es posible dibujar la estrella.\n",
    "    if puntas <= 4:\n",
    "        print('El número de puntas es demasiado pequeño. Prueba de nuevo con un número de puntas mayor.')\n",
    "        return \n",
    "    # El ángulo de rotación en los vértices de la estrella se calcula en fución del primer número entero coprimo con el número de puntas\n",
    "    # Bucle iterarivo para buscar el mayor coprimo con el número de puntas\n",
    "    for i in range(puntas // 2, 1, -1):\n",
    "        # Condicional para ver si i y el número de puntas son números coprimos\n",
    "        if mcd(puntas, i) == 1:\n",
    "            angle = 360.0 / puntas * i\n",
    "            break\n",
    "    # Bucle iterativo para dibujar los trazos de cada punta.\n",
    "    for _ in range(puntas):\n",
    "        # Dibujamos el lado\n",
    "        turtle.forward(lado)\n",
    "        # Rotamos el cursor\n",
    "        turtle.left(angle)\n",
    "\n",
    "    return\n",
    "\n",
    "estrella(20)\n"
   ],
   "cell_type": "code",
   "metadata": {},
   "execution_count": 9,
   "outputs": []
  },
  {
   "cell_type": "code",
   "execution_count": null,
   "metadata": {},
   "outputs": [],
   "source": []
  }
 ],
 "metadata": {
  "kernelspec": {
   "display_name": "Python 3",
   "language": "python",
   "name": "python3"
  },
  "language_info": {
   "codemirror_mode": {
    "name": "ipython",
    "version": 3
   },
   "file_extension": ".py",
   "mimetype": "text/x-python",
   "name": "python",
   "nbconvert_exporter": "python",
   "pygments_lexer": "ipython3",
   "version": "3.9.4-final"
  }
 },
 "nbformat": 4,
 "nbformat_minor": 2
}