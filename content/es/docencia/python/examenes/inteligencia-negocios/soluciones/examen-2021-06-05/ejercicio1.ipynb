{
 "cells": [
  {
   "source": [
    "# Ejercicio\n",
    "\n",
    "A veces, al tratar con tuplas, podemos tener un problema en el que necesitamos extraer solo $k$ elementos extremos, es decir, los $k$ máximos y mínimos. Este problema puede tener aplicaciones en campos como el desarrollo web y la ciencia de datos. Desarrollar un programa que dada una tupla y un número $k$ devuelva otra tupla con los $k$ elementos máximos y mínimos.\n",
    "\n",
    "Ejemplo:\n",
    "\n",
    "```sh\n",
    "La tupla original es: (5, 20, 3, 7, 6, 8) \n",
    "La tupla con los k = 2 máximos y mínimos es: (3, 5, 8, 20) \n",
    "```"
   ],
   "cell_type": "markdown",
   "metadata": {}
  },
  {
   "cell_type": "markdown",
   "metadata": {},
   "source": [
    "# Solución 1"
   ]
  },
  {
   "cell_type": "code",
   "execution_count": 5,
   "metadata": {
    "tags": []
   },
   "outputs": [
    {
     "output_type": "stream",
     "name": "stdout",
     "text": [
      "(3, 5, 8, 20)\n"
     ]
    }
   ],
   "source": [
    "# Definimos la tupla\n",
    "tupla = (5, 20, 3, 7, 6, 8)\n",
    "# Preguntamos por el valor de k\n",
    "k = int(input('¿Cuántos máximos y mínimos quieres? '))\n",
    "# Convertimos la tupla en una lista para poder eliminar elmentos.\n",
    "lista = list(tupla)\n",
    "# Condicional para ver si la lista contiene suficientes elementos.\n",
    "if len(lista) < 2 * k:\n",
    "  print('No se pueden extraer', k, 'máximos y mínimos de la tupla porque solo cotinene', len(lista), 'elementos.')\n",
    "else:\n",
    "  # Ordenamos la lista\n",
    "  lista.sort()\n",
    "  # Creamos una tupla concatenando los k primeros y los k últimos elementos de la lista ordenada.\n",
    "  tupla2 = tuple(lista[:k] + lista[-k:])\n",
    "  print(tupla2)\n"
   ]
  },
  {
   "source": [
    "# Solución 2"
   ],
   "cell_type": "markdown",
   "metadata": {}
  },
  {
   "cell_type": "code",
   "execution_count": 6,
   "metadata": {},
   "outputs": [
    {
     "output_type": "stream",
     "name": "stdout",
     "text": [
      "(3, 20, 5, 8)\n"
     ]
    }
   ],
   "source": [
    "# Definimos la tupla\n",
    "tupla = (5, 20, 3, 7, 6, 8)\n",
    "# Preguntamos por el valor de k\n",
    "k = int(input('¿Cuántos máximos y mínimos quieres? '))\n",
    "# Convertimos la tupla en una lista para poder eliminar elmentos.\n",
    "lista = list(tupla)\n",
    "# Condicional para ver si la lista contiene suficientes elementos.\n",
    "if len(lista) < 2 * k:\n",
    "  print('No se pueden extraer ', k, 'máximos y mínimos de la tupla porque solo cotinene', len(lista), 'elementos.')\n",
    "else:\n",
    "  # Creamos una lista vacía para ir añadiendo los máximos y mínimos.\n",
    "  lista2 = []\n",
    "  # Bucle iterativo para realizar k iteraciones. i toma valores de 0 a k-1.\n",
    "  for i in range(k): \n",
    "    # Añadimos a la lista2 el mínimo de la lista.\n",
    "    lista2.append(min(lista))\n",
    "    # Eliminiamos de la lista el mínimo.\n",
    "    lista.remove(min(lista))\n",
    "    # Añadimos a la lista 2 el máximo de la lista.\n",
    "    lista2.append(max(lista))\n",
    "    # Eliminiamos de la lista el máximo.\n",
    "    lista.remove(max(lista))\n",
    "  # Convertimos la lista2 en una tupla.\n",
    "  tupla2 = tuple(lista2)\n",
    "  print(tupla2)"
   ]
  },
  {
   "cell_type": "code",
   "execution_count": null,
   "metadata": {},
   "outputs": [],
   "source": []
  }
 ],
 "metadata": {
  "kernelspec": {
   "display_name": "Python 3",
   "language": "python",
   "name": "python3"
  },
  "language_info": {
   "codemirror_mode": {
    "name": "ipython",
    "version": 3
   },
   "file_extension": ".py",
   "mimetype": "text/x-python",
   "name": "python",
   "nbconvert_exporter": "python",
   "pygments_lexer": "ipython3",
   "version": "3.9.5-final"
  }
 },
 "nbformat": 4,
 "nbformat_minor": 2
}