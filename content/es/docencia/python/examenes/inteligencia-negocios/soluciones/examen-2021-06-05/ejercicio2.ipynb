{
 "cells": [
  {
   "cell_type": "markdown",
   "metadata": {},
   "source": [
    "# Ejercicio\n",
    "\n",
    "Construir un programa que evalúe operaciones aritméticas sencillas (sumas, restas, productos, cocientes y potencias) introducidas por el usuario. El programa preguntará por la operación a realizar y el usuario tecleará por pantalla la operación con el siguiente formato:\n",
    "\n",
    "`operando1 operador operando2`\n",
    "\n",
    "Después el programa debe mostrar por pantalla el resultado de la operación con el siguiente formato:\n",
    "\n",
    "`operando1 operador operando2 = resultado`\n",
    "\n",
    "El programa debe preguntar al usuario hasta que este introduzca la palabra “salir”. También mostrará un mensaje de error si el usuario introduce un número de valores distinto de 3 y si introduce un operador no válido.\n",
    "\n",
    "Ejemplo:\n",
    "\n",
    "```sh\n",
    "Introduce la operación con el formato operando1 operador operando2: 2+3 \n",
    "Entrada no válida. Debes introducir exactamente tres valores separados por espacio. \n",
    "Introduce la operación con el formato operando1 operador operando2: 2 + 3 \n",
    "2 + 3 = 5.0 \n",
    "Introduce la operación con el formato operando1 operador operando2: 4 ^ 2 \n",
    "Operación no válida. \n",
    "Introduce la operación con el formato operando1 operador operando2: 4 ** 2 \n",
    "4 ** 2 = 16.0 \n",
    "Introduce la operación con el formato operando1 operador operando2: salir \n",
    "```"
   ]
  },
  {
   "cell_type": "markdown",
   "metadata": {},
   "source": [
    "# Solución"
   ]
  },
  {
   "cell_type": "code",
   "execution_count": 2,
   "metadata": {
    "tags": []
   },
   "outputs": [
    {
     "output_type": "stream",
     "name": "stdout",
     "text": [
      "Operación no válida. Se necesitan tres argumentos separados por espacio.\n",
      "2.0 + 3.0 = 5.0\n",
      "Operador no válido. Introduce uno de los siguientes operadores: + (suma), - (resta), * (producto), / (cociente), ** (potencia).\n",
      "4.0 ** 2.0 = 16.0\n"
     ]
    }
   ],
   "source": [
    "# Bucle condicional para preguntar al usuario hasta que introduzca salir.\n",
    "while True:\n",
    "    # Preguntamos al usuario por la operación a realizar\n",
    "    operacion = input(\"Introduce la operación con el formato operando1 operador operando2:\")\n",
    "    # Si el usuario introduce salir salimos del bucle y terminamos\n",
    "    if operacion.lower() == 'salir':\n",
    "        break\n",
    "    # Dividimos la entrada por el espacio en blanco y obtenemos la lista de valores\n",
    "    operacion = operacion.split()\n",
    "    # Condicional para ver si la lista no contiene 3 valores. En tal caso mostramos un mensaje de error.\n",
    "    if len(operacion) != 3:\n",
    "        print('Operación no válida. Se necesitan tres argumentos separados por espacio.')\n",
    "    # Si entrada es válida hacemos la operación.\n",
    "    else:\n",
    "        # Creamos variables para los operandos y el operador\n",
    "        a = float(operacion[0])\n",
    "        operador = operacion[1]\n",
    "        b = float(operacion[2])\n",
    "        if operador == \"+\":\n",
    "            print(a, operador, b, '=', a + b)\n",
    "        elif operador == \"-\":\n",
    "            print(a, operador, b, '=', a - b)\n",
    "        elif operador == \"*\":\n",
    "            print(a, operador, b, '=', a * b)\n",
    "        elif operador == \"/\":\n",
    "            print(a, operador, b, '=', a / b)\n",
    "        elif operador == \"**\":\n",
    "            print(a, operador, b, '=', a ** b)\n",
    "        else:\n",
    "            print('Operador no válido. Introduce uno de los siguientes operadores: + (suma), - (resta), * (producto), / (cociente), ** (potencia).')"
   ]
  },
  {
   "cell_type": "code",
   "execution_count": null,
   "metadata": {},
   "outputs": [],
   "source": []
  }
 ],
 "metadata": {
  "kernelspec": {
   "display_name": "Python 3",
   "language": "python",
   "name": "python3"
  },
  "language_info": {
   "codemirror_mode": {
    "name": "ipython",
    "version": 3
   },
   "file_extension": ".py",
   "mimetype": "text/x-python",
   "name": "python",
   "nbconvert_exporter": "python",
   "pygments_lexer": "ipython3",
   "version": "3.9.5-final"
  }
 },
 "nbformat": 4,
 "nbformat_minor": 2
}