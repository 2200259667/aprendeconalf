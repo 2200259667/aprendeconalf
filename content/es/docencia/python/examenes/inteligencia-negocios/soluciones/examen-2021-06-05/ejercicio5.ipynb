{
 "cells": [
  {
   "cell_type": "markdown",
   "metadata": {},
   "source": [
    "# Ejercicio\n",
    "\n",
    "El fichero [`cercanias.csv`](cercanias.csv) contiene información sobre las líneas de tren de cercanías de Madrid: id (identificador del tren), línea (nombre de la línea), estaciones (estaciones de origen y destino separadas por un guion). Se pide:\n",
    "  \n",
    "1. Construir una función que lea el fichero `cercanias.csv` y cree un diccionario donde la clave de cada par sea el identificador de la línea y el valor asociado una lista de dos elementos con la estación de origen y la estación de destino como el que se muestra a continuación a modo de ejemplo: \n",
    "\n",
    "  `{'10T0001C1': ['Principe Pio', 'Aeropuerto'], '10T0002C1': ['Aeropuerto', 'Principe Pio'], …}`\n",
    "\n",
    "  La función debe recibir el nombre del fichero como parámetro.\n",
    "2. Construir otra función que guarde la información del diccionario obtenido en el apartado anterior en un fichero csv separado por punto y coma con 3 columnas con los encabezados id, origen y destino. La función debe recibir como parámetros el diccionario con los trenes y el nombre del fichero resultante."
   ]
  },
  {
   "cell_type": "markdown",
   "metadata": {},
   "source": [
    "# Solución"
   ]
  },
  {
   "cell_type": "code",
   "execution_count": 4,
   "metadata": {
    "tags": []
   },
   "outputs": [
    {
     "output_type": "stream",
     "name": "stdout",
     "text": [
      "{'10T0001C1': ['Principe Pio', 'Aeropuerto'], '10T0002C1': ['Aeropuerto', 'Principe Pio'], '10T0003C10': ['Villalba', 'Aeropuerto'], '10T0004C10': ['Aeropuerto', 'Villalba'], '10T0005C2': ['Guadalajara', 'Chamartin'], '10T0006C2': ['Chamartin', 'Guadalajara'], '10T0007C3': ['Chamartin', 'Aranjuez'], '10T0008C3': ['Aranjuez', 'Chamartin '], '10T0009C3a': ['Chamartin', 'El Escorial'], '10T0010C3a': ['El Escorial', 'Chamartin'], '10T0011C4': ['Chamartin', 'Parla'], '10T0012C4': ['Parla', 'Chamartin'], '10T0013C4a': ['Alcobendas', 'Parla'], '10T0014C4a': ['Parla', 'Alcobendas'], '10T0015C4b': ['Colmenar Viejo', 'Parla'], '10T0016C4b': ['Parla', 'Colmenar Viejo'], '10T0017C5': ['Mostoles el Soto', 'Humanes'], '10T0018C5': ['Humanes', 'Mostoles el Soto'], '10T0019C7': ['Alcala de Henares', 'Principe Pio'], '10T0020C7': ['Principe Pio', 'Alcala de Henares'], '10T0021C8': ['Atocha', 'Cercedilla'], '10T0022C8': ['Cercedilla', 'Atocha'], '10T0023C3a': ['Atocha', 'El Escorial'], '10T0024C3a': ['El Escorial', 'Atocha'], '10T0025C9': ['Cercedilla', 'Cotos'], '10T0026C9': ['Cotos', 'Cercedilla'], '10T0027C3a': ['Atocha', 'El Escorial'], '10T0028C3a': ['El Escorial', 'Atocha']}\n"
     ]
    }
   ],
   "source": [
    "def importar_trenes(fichero):\n",
    "    '''Función que genera un diccionario con las líneas de trenes (origen y destino) a partir de un fichero de texto.\n",
    "\n",
    "    Parámetros:\n",
    "        - fichero: Es una cadena con el nombre del fichero.\n",
    "\n",
    "    Salida: Un diccionario con las líneas de tren. Las claves son los identificadores de las líneas y los valores son listas de dos elementos con el origen y el destino.\n",
    "    '''\n",
    "    try:\n",
    "        # Intentamos abrir el fichero en modo lectura.\n",
    "        f = open(fichero, 'r')\n",
    "    except FileNotFoundError:\n",
    "        # Si el fichero no existe captuarmos la excepción y mostramos un aviso por pantalla.\n",
    "        print('El fichero', f, 'no existe.')\n",
    "    else:\n",
    "        # Leemos las líneas del fichero en una lista.\n",
    "        lineas = f.read().split('\\n')\n",
    "        # Cerramos el fichero.\n",
    "        f.close()\n",
    "        # Creamos un diccionario vacío para guardar las líneas de trenes.\n",
    "        trenes = {}\n",
    "        # Bucle iterativo para recorrer las líneas del fichero. i toma como valores cada línea menos la primera que es el encabezado.\n",
    "        for i in lineas[1:]:\n",
    "            # Creamos una lista con los campos dividiendo la línea por la coma.\n",
    "            campos = i.split(',')\n",
    "            # Añadimos al diccionario un nuevo par con la clave el identificador del tren y valor la lista que se obtiene de dividir el último campo por el guión.\n",
    "            trenes[campos[0]] = campos[2].split('-')\n",
    "        return trenes\n",
    "\n",
    "def exportar_trenes(trenes, fichero):\n",
    "    '''Función que crea un fichero csv separado por ; con los identificadores de las líneas de tren, su origen y su destino a partir de un diccionario.\n",
    "\n",
    "    Parámetros: \n",
    "        - trenes: Es un diccionario cuyas claves son los identificadores de los trenes y cuyos valores son listas de dos elementos con el origen y el destino.\n",
    "        - fichero: Es una cadena con el nombre del fichero.\n",
    "    '''\n",
    "    # Definimos una cadena con el encabezado del fichero.\n",
    "    lineas = 'id;origen;destino'\n",
    "    # Bucle iterativo para recorrer el diccionario. id recorre las claves y estaciones recorre los valores.\n",
    "    for id, estaciones in trenes.items():\n",
    "        # Añadimos a la cadena una nueva línea con el identificador del tren y sus estaciones de origen y destino.\n",
    "        lineas += '\\n' + id + ';' + ';'.join(estaciones)\n",
    "    # Abrimos el fichero en modo escritura.\n",
    "    f = open(fichero, 'w')\n",
    "    # Escribimos la cadena en el fichero.\n",
    "    f.write(lineas)\n",
    "    # Cerramos el fichero.\n",
    "    f.close()\n",
    "    return\n",
    "\n",
    "trenes = importar_trenes('cercanias.csv')\n",
    "print(trenes)\n",
    "exportar_trenes(trenes, 'trenes_cercanias.csv')"
   ]
  },
  {
   "cell_type": "code",
   "execution_count": null,
   "metadata": {},
   "outputs": [],
   "source": []
  }
 ],
 "metadata": {
  "kernelspec": {
   "display_name": "Python 3",
   "language": "python",
   "name": "python3"
  },
  "language_info": {
   "codemirror_mode": {
    "name": "ipython",
    "version": 3
   },
   "file_extension": ".py",
   "mimetype": "text/x-python",
   "name": "python",
   "nbconvert_exporter": "python",
   "pygments_lexer": "ipython3",
   "version": "3.9.5-final"
  }
 },
 "nbformat": 4,
 "nbformat_minor": 2
}