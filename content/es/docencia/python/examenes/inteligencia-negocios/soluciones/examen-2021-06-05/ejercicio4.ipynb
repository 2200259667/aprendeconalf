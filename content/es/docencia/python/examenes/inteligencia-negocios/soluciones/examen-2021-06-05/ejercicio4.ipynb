{
 "cells": [
  {
   "cell_type": "markdown",
   "metadata": {},
   "source": [
    "# Ejercicio\n",
    "\n",
    "Construir un programa para realizar las siguientes operaciones con dos números proporcionados por el usuario:\n",
    "\n",
    "- Comprobar si uno de los dos números es divisible por el otro. Un número es divisible por otro cuando el resto de la división entera es cero.\n",
    "- Calcular su Máximo Común Divisor.\n",
    "- Calcular su Mínimo Común Múltiplo.\n",
    "\n",
    "Cada una de las operaciones deben estar separadas en funciones que tengan como parámetros los 2 números y devuelvan el resultado adecuado."
   ]
  },
  {
   "cell_type": "markdown",
   "metadata": {},
   "source": [
    "# Solución"
   ]
  },
  {
   "cell_type": "code",
   "execution_count": 4,
   "metadata": {
    "tags": []
   },
   "outputs": [
    {
     "output_type": "stream",
     "name": "stdout",
     "text": [
      "False\n6\n36.0\n"
     ]
    }
   ],
   "source": [
    "def div(a, b): \n",
    "    '''Función que comprueba si un número es divisible por otro.\n",
    "\n",
    "    Parámetros:\n",
    "        - a: Es un número entero.\n",
    "        - b: Es un número entero.\n",
    "\n",
    "    Salida: Un booleano, True si alguno de los números es divisible por el otro y False en caso contrario.\n",
    "''' \n",
    "    return a % b == 0 or b % a == 0 \n",
    "\n",
    "def mcd(a, b): \n",
    "    '''Función que devuelve el máximo común divisior de dos números por el algoritmo de Euclides.\n",
    "\n",
    "    Parámetros:\n",
    "        - a: Es un número entero.\n",
    "        - b: Es un número entero. \n",
    "    \n",
    "    Salida: El máximo común divisor de los dos números dados.\n",
    "    ''' \n",
    "    # Bucle condicional mientras b (el divisor) sea distinto de 0.\n",
    "    while b:\n",
    "        # b pasa a ser el nuevo dividendo y el resto de la división entera de a por b pasa a ser el nuevo divisor\n",
    "        a, b = b, a%b \n",
    "    # Devolvemos el último divisor distinto de 0.\n",
    "    return a\n",
    "\n",
    "def mcm(a, b): \n",
    "    '''Función que devuelve el mínimo común múltiplo de dos números por el algoritmo de Euclides.\n",
    "\n",
    "    Parámetros:\n",
    "        - a: Es un número entero.\n",
    "        - b: Es un número entero. \n",
    "    \n",
    "    Salida: El mínimo común múltiplo de los dos números dados. \n",
    "    '''\n",
    "    # Aprovechando que tenemos el mcd aplicamos la propiedad a * b = mcd(a,b) * mcm (a,b).\n",
    "    return a / mcd(a,b) * b \n",
    "\n",
    " \n",
    "print(div(12, 18))\n",
    "print(mcd(12, 18))\n",
    "print(mcm(12, 18))"
   ]
  },
  {
   "cell_type": "code",
   "execution_count": null,
   "metadata": {},
   "outputs": [],
   "source": []
  }
 ],
 "metadata": {
  "kernelspec": {
   "display_name": "Python 3",
   "language": "python",
   "name": "python3"
  },
  "language_info": {
   "codemirror_mode": {
    "name": "ipython",
    "version": 3
   },
   "file_extension": ".py",
   "mimetype": "text/x-python",
   "name": "python",
   "nbconvert_exporter": "python",
   "pygments_lexer": "ipython3",
   "version": "3.9.5-final"
  }
 },
 "nbformat": 4,
 "nbformat_minor": 2
}