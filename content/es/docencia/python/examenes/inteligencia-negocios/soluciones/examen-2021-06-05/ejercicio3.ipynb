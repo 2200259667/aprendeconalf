{
 "cells": [
  {
   "cell_type": "markdown",
   "metadata": {},
   "source": [
    "# Ejercicio\n",
    "\n",
    "El siguiente diccionario contiene pares formados por números de teléfonos y propietarios:\n",
    "\n",
    "`{'919654665':'Pedro', '917489210': 'Luis', '623543213':'Carmen', '674833721':'Luis'}`\n",
    "\n",
    "Crear un programa que construya un diccionario con la misma información, pero tomando como claves los nombres de los usuarios y como valores los teléfonos. Como un usuario puede tener dos teléfonos, uno móvil y uno fijo, los teléfonos deben agruparse a su vez en un diccionario cuyos elementos tendrán clave “movil” o “fijo” según el teléfono empiece por 6 o no. Por ejemplo, a partir del diccionario anterior debe construirse el siguiente diccionario:\n",
    "\n",
    "`{'Pedro': {'fijo': '919654665'}, 'Luis': {'fijo': '917489210', 'movil': '674833721'}, 'Carmen': {'movil': '623543213'}}`\n",
    "\n",
    "Después el programa debe recorrer este diccionario y mostrar por pantalla los teléfonos del listín en orden alfabético.\n",
    "\n",
    "Ejemplo:  \n",
    "\n",
    "```sh\n",
    "Teléfonos de Carmen \n",
    "         movil : 623543213 \n",
    "Teléfonos de Luis \n",
    "         fijo : 917489210 \n",
    "         movil : 674833721 \n",
    "Teléfonos de Pedro \n",
    "         fijo : 919654665 \n",
    "```"
   ]
  },
  {
   "cell_type": "markdown",
   "metadata": {},
   "source": [
    "# Solución"
   ]
  },
  {
   "cell_type": "code",
   "execution_count": 6,
   "metadata": {
    "tags": []
   },
   "outputs": [
    {
     "output_type": "stream",
     "name": "stdout",
     "text": [
      "{'Pedro': {'fijo': '919654665'}, 'Luis': {'fijo': '917489210', 'movil': '674833721'}, 'Carmen': {'movil': '623543213'}}\nTeléfonos de Carmen\n\t movil : 623543213\nTeléfonos de Luis\n\t fijo : 917489210\n\t movil : 674833721\nTeléfonos de Pedro\n\t fijo : 919654665\n"
     ]
    }
   ],
   "source": [
    "# Definimos el diccionario con el listín telefónico.\n",
    "listin = {'919654665':'Pedro', '917489210': 'Luis', '623543213':'Carmen', '674833721':'Luis'}\n",
    "# Definimos un diccionario vacío para el nuevo listín telefónico.\n",
    "listin2 = {}\n",
    "# Bucle iterativo para recorrer el diccionario. i toma como valores los valores del diccionario.\n",
    "for i in listin.values():\n",
    "  # Añadimos al listin nuevo un par con la clave el nombre de la persona y el valor un diccionario vacío.\n",
    "  listin2[i] = {}\n",
    "# Bucle iterativo para recorrer el diccionario. k toma como valores las claves y v los valores.\n",
    "for k,v in listin.items():\n",
    "  # Condicional para ver si el teléfono empieza por 6.\n",
    "  if k[0] == '6':\n",
    "    # Si el teléfono empieza por 6 añadimos al diccionario de la persona un nuevo par con la clave 'movil' y el valor el telefono.\n",
    "    listin2[v]['movil'] = k\n",
    "  else:\n",
    "    # Si el teléfono no empieza por 6 añadimos al diccionario de la persona un nuevo par con la clave 'fijo' y el valor el telefono.\n",
    "    listin2[v]['fijo'] = k\n",
    "print(listin2)\n",
    "# Bucle iterativo para recorrer el segundo diccionario alfabéticamente. i toma como valores las claves.\n",
    "for i in sorted(listin2.keys()):\n",
    "  print('Teléfonos de', i)\n",
    "  # Bucle iterativo anidado para recorrer el diccionario de los teléfonos de una persona. k toma como valores las claves y v los valores.\n",
    "  for k,v in listin2[i].items():\n",
    "    print('\\t', k, ':', v)"
   ]
  },
  {
   "cell_type": "code",
   "execution_count": null,
   "metadata": {},
   "outputs": [],
   "source": []
  }
 ],
 "metadata": {
  "kernelspec": {
   "display_name": "Python 3",
   "language": "python",
   "name": "python3"
  },
  "language_info": {
   "codemirror_mode": {
    "name": "ipython",
    "version": 3
   },
   "file_extension": ".py",
   "mimetype": "text/x-python",
   "name": "python",
   "nbconvert_exporter": "python",
   "pygments_lexer": "ipython3",
   "version": "3.9.5-final"
  }
 },
 "nbformat": 4,
 "nbformat_minor": 2
}