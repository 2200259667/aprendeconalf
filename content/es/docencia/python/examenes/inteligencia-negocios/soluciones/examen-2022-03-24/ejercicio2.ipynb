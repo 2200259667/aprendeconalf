{
 "cells": [
  {
   "cell_type": "markdown",
   "metadata": {},
   "source": [
    "# Ejercicio\n",
    "\n",
    "Escribir un programa que calcule a partir de una fecha de un año no bisiesto el número de días que han transcurrido en ese año y el número de meses lunares completos que abarcan. Se recuerda que un mes lunar dura aproximadamente 29,53 días. \n",
    "\n",
    "El programa debe usar diccionarios para acceder al número de días de cada mes.\n",
    "\n",
    "Ejemplo:\n",
    "\n",
    "```sh\n",
    "CALENDARIO LUNAR \n",
    "Este programa convierte una fecha de un año NO bisiesto a un calendario lunar. \n",
    "Indique el día: 1 \n",
    "Indique el mes: henero \n",
    "El mes henero no existe. \n",
    "\n",
    "CALENDARIO LUNAR \n",
    "Este programa convierte una fecha de un año NO bisiesto a un calendario lunar \n",
    "Indique el día: -5 \n",
    "Indique el mes: marzo \n",
    "El día -5 de marzo no existe.\n",
    "\n",
    "CALENDARIO LUNAR \n",
    "Este programa convierte una fecha de un año NO bisiesto a un calendario lunar \n",
    "Indique el día: 29 \n",
    "Indique el mes: febrero \n",
    "El día 29 de febrero no existe. \n",
    "\n",
    "CALENDARIO LUNAR \n",
    "Este programa convierte una fecha de un año NO bisiesto a un calendario lunar \n",
    "Indique el día: 1 \n",
    "Indique el mes: febrero \n",
    "El día 1 de febrero es el día 32 del año. \n",
    "Habrán pasado 1.08 meses lunares.\n",
    "```"
   ]
  },
  {
   "cell_type": "markdown",
   "metadata": {},
   "source": [
    "# Solución"
   ]
  },
  {
   "cell_type": "code",
   "execution_count": 1,
   "metadata": {
    "tags": []
   },
   "outputs": [
    {
     "name": "stdout",
     "output_type": "stream",
     "text": [
      "CALENDARIO LUNAR\n",
      "Este programa convierte una fecha de un año NO bisiesto a un calendario lunar.\n",
      "El día 1 de febrero es el día 32 del año.\n",
      "Habrán pasado 1.08 meses lunares.\n"
     ]
    }
   ],
   "source": [
    "# Definimos una lista con los meses del año en orden\n",
    "meses = [\"enero\", \"febrero\", \"marzo\", \"abril\", \"mayo\", \"junio\", \"julio\", \"agosto\", \"septiembre\", \"octubre\", \"noviembre\", \"diciembre\"]\n",
    "# Definimos un diccionario con los días de cada mes\n",
    "dias = {\"enero\":31, \"febrero\":28, \"marzo\":31, \"abril\":30, \"mayo\":31, \"junio\":30, \"julio\":31, \"agosto\":31, \"septiembre\":30, \"octubre\":31, \"noviembre\":30, \"diciembre\":31}\n",
    "# Definimos el número de días de un mes lunar\n",
    "meslunar = 29.53\n",
    "print(\"CALENDARIO LUNAR\")\n",
    "print(\"Este programa convierte una fecha de un año NO bisiesto a un calendario lunar.\")\n",
    "# Preguntamos al usuario por el día\n",
    "dia = int(input(\"Indique el día: \"))\n",
    "# Preguntamos al usuario por el mes\n",
    "mes = input(\"Indique el mes: \")\n",
    "# Si el mes no está en la lista de meses, avisamos al usuario y terminamos la ejecución.\n",
    "if mes not in meses:\n",
    "    print(\"El mes\", mes, \"no existe.\")\n",
    "# Si el día no es un día válido del mes introducido, avisamos al usuario y terminamos la ejecución.\n",
    "elif dia < 1 or dia > dias[mes]:\n",
    "    print(\"El día\", dia, \"de\", mes, \"no existe.\")\n",
    "# En caso contrario, la fecha introducida es válida y procedemos al cálculo de días transcurridos\n",
    "else:\n",
    "    # Definimos un acumulador para el número de días transcurridos\n",
    "    numdias = 0\n",
    "    # Bucle iterativo para recorrer la lista d emeses por valor\n",
    "    for i in meses:\n",
    "        # Si el mes i no coincide con el mes introducido, añadimos el número de días del mes i a los días transcurridos\n",
    "        if i != mes:\n",
    "            numdias += dias[i]\n",
    "        # Si el mes i coincide con el mes introducido, añadimos el día introducido a los días transcurridos y salimos del bucle\n",
    "        else:\n",
    "            numdias += dia\n",
    "            break\n",
    "    # Mostramos por pantalla el número de días transcurridos hasta la fecha introducida\n",
    "    print(\"El día\", dia, \"de\", mes, \"es el día\", numdias, \"del año.\")\n",
    "    # Mostramos por pantalla el número de meses lunares transcurridos hasta la fecha introducida\n",
    "    print(\"Habrán pasado\", round(numdias / meslunar, 2), \"meses lunares.\")\n",
    "\n"
   ]
  }
 ],
 "metadata": {
  "kernelspec": {
   "display_name": "Python 3",
   "language": "python",
   "name": "python3"
  },
  "language_info": {
   "codemirror_mode": {
    "name": "ipython",
    "version": 3
   },
   "file_extension": ".py",
   "mimetype": "text/x-python",
   "name": "python",
   "nbconvert_exporter": "python",
   "pygments_lexer": "ipython3",
   "version": "3.10.2"
  }
 },
 "nbformat": 4,
 "nbformat_minor": 2
}
