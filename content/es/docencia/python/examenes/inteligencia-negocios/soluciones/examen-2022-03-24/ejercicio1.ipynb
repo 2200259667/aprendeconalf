{
 "cells": [
  {
   "cell_type": "markdown",
   "metadata": {},
   "source": [
    "# Ejercicio\n",
    "\n",
    "Escriba un programa que permita practicar una variante simplificada de la prueba de cálculo mental _La calculadora humana_ del concurso televisivo Saber y ganar. El usuario debe ir sumando todos los números de la lista de uno en uno hasta que se equivoque o termine la lista, en cuyo caso ganará.\n",
    "\n",
    "Ejemplo usando la lista [50, 4, 28, 33, 12]: \n",
    "\n",
    "```sh\n",
    "SUMAR Y GANAR \n",
    "Vaya sumando todos los números que le iré diciendo. Empezamos por 0. \n",
    "Más 50: 50 \n",
    "Más 4: 54 \n",
    "Más 28: 72 \n",
    "Te has equivocado, pero has acertado 2 veces seguidas.\n",
    "\n",
    "\n",
    "SUMAR Y GANAR \n",
    "Vaya sumando todos los números que le iré diciendo. Empezamos por 0. \n",
    "Más 50: 50 \n",
    "Más 4: 54 \n",
    "Más 28: 82\n",
    "Más 33: 115\n",
    "Más 12: 127\n",
    "Enhorabuena, GANASTE.\n",
    "```"
   ]
  },
  {
   "cell_type": "markdown",
   "metadata": {},
   "source": [
    "# Solución"
   ]
  },
  {
   "cell_type": "code",
   "execution_count": 1,
   "metadata": {
    "tags": []
   },
   "outputs": [
    {
     "name": "stdout",
     "output_type": "stream",
     "text": [
      "SUMAR Y GANAR\n",
      "Vaya sumando todos los números que le iré diciendo. Empezamos por 0.\n",
      "Enhorabuena, GANASTE.\n"
     ]
    }
   ],
   "source": [
    "# Definimos la lista de números\n",
    "numeros = [50, 4, 28, 33, 12]\n",
    "# Definimos un acumulador para llevar la suma\n",
    "suma = 0\n",
    "print(\"SUMAR Y GANAR\")\n",
    "print(\"Vaya sumando todos los números que le iré diciendo. Empezamos por 0.\")\n",
    "# Bucle iterativo para recorrer la lista de números\n",
    "for i in range(len(numeros)):\n",
    "    # Preguntamos al usuario por la siguiente suma\n",
    "    respuesta = int(input(\"Más \" + str(numeros[i]) + \": \"))\n",
    "    # Añadimos el siguiente número a la suma\n",
    "    suma += numeros[i]\n",
    "    # Si la respuesta del usuario no coincide con la suma, le avisamos y salimos del bucle.\n",
    "    if respuesta != suma:\n",
    "        print(\"Te has equivocado, pero has acertado\", i, \"veces seguidas.\")\n",
    "        break\n",
    "# Si el acumulador suma contiene la suma de todos los números entonces el usuario ha ganado.\n",
    "if suma == sum(numeros):\n",
    "    print(\"Enhorabuena, GANASTE.\")\n"
   ]
  }
 ],
 "metadata": {
  "kernelspec": {
   "display_name": "Python 3",
   "language": "python",
   "name": "python3"
  },
  "language_info": {
   "codemirror_mode": {
    "name": "ipython",
    "version": 3
   },
   "file_extension": ".py",
   "mimetype": "text/x-python",
   "name": "python",
   "nbconvert_exporter": "python",
   "pygments_lexer": "ipython3",
   "version": "3.10.2"
  }
 },
 "nbformat": 4,
 "nbformat_minor": 2
}
