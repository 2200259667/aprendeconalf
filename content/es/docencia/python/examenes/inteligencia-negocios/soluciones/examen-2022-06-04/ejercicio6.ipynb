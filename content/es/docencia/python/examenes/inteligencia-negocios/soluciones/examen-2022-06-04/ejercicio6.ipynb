{
 "cells": [
  {
   "cell_type": "markdown",
   "metadata": {},
   "source": [
    "# Ejercicio\n",
    "\n",
    "El fichero [bitcoin-tweets.csv](https://aprendeconalf.es/docencia/python/examenes/inteligencia-negocios/soluciones/examen-2022-06-04/bitcoin-tweets.csv) contiene los tweets obtenidos en una búsqueda en Twitter sobre bitcoins (cada línea contiene información de un tweet). Se pide: \n",
    "\n",
    "1. Crear una función que reciba la url de un fichero csv como el anterior y devuelva una lista con los tweets del fichero, donde cada tweet se represente con un diccionario con sus campos, tal y como se muestra en la siguiente salida: \n",
    "\n",
    "    ```sh\n",
    "    [{'fecha': '2022-05-20 15:11:03+00:00', 'usuario': 'infobaeeconomia', 'texto': 'Bill Gates contra el Bitcoin: “No aporta nada” https://t.co/pZBlC664gw', 'likes': '496'}, \n",
    "    {'fecha': '2022-05-21 14:26:51+00:00', 'usuario': 'DaniaGonzalz', 'texto': 'El Salvador hoy es un referente en materia de Inclusión Financiera gracias a la Ley #Bitcoin, países de la región c… https://t.co/P8oS2nfm36', 'likes': '554'}, \n",
    "    {'fecha': '2022-05-20 20:42:04+00:00', 'usuario': 'LaHuellaSV', 'texto': 'El asesor en criptoeconomía y fundador de Criptokuántica, Néstor Kreimer, afirmó que El Salvador tiene actualmente… https://t.co/HbSqrQYk67', 'likes': '57'}, \n",
    "    {'fecha': '2022-05-20 11:38:19+00:00', 'usuario': 'carmenaidalazo', 'texto': 'La ironía con bitcoin es que años de bajas tasas y politica monetaria expansiva alimentaron incrementos en precios… https://t.co/cm2mo86eKy', 'likes': '284'}, \n",
    "    {'fecha': '2022-05-20 11:56:30+00:00', 'usuario': 'garciabanchs', 'texto': 'Cuando a soberbios del #Bitcoin aún les cambiaban los pañales, ya me quemaba las pestañas en mi doctorado de Econom… https://t.co/82tj5Dcalp', 'likes': '74'}, \n",
    "    {'fecha': '2022-05-21 14:27:07+00:00', 'usuario': 'DaniaGonzalz', 'texto': '\"El Salvador es la capital del #Bitcoin #Ethereum , invitamos a todos los países a invertir en el futuro, por eso nuestro p… https://t.co/UnQVQZj7aw\"', 'likes': '89'}, \n",
    "    {'fecha': '2022-05-14 00:07:00+00:00', 'usuario': 'ActualidadRT', 'texto': \"@ActualidadRT's account has been withheld in Belgium, Austria, Bulgaria, Sweden, Croatia, Spain, Slovenia, Cyprus, Slovakia, Czech Republic, Romania, Portugal, Poland, Denmark, Netherlands, Estonia, Malta, Luxembourg, Finland, France, Lithuania, Germany, Greece, Latvia, Hungary, Italy, Ireland, United Kingdom in response to a legal demand. Learn more.\", 'likes': '1037'}, \n",
    "    {'fecha': '2022-05-14 14:01:45+00:00', 'usuario': 'ChiguireBipolar', 'texto': 'Testigo de Jehová se esconde de promotor del Bitcoin https://t.co/odVOELmYKu https://t.co/GOtuWLoGhT', 'likes': '1082'}, {'fecha': '2022-05-15 01:21:58+00:00', 'usuario': 'el_pais', 'texto': 'El Salvador convirtió al Bitcoin en su moneda legal. Con la caída de las criptomonedas, han caído en picado también… https://t.co/fFlk1P1LSj', 'likes': '551'}, \n",
    "    {'fecha': '2022-05-13 23:00:28+00:00', 'usuario': 'garciabanchs', 'texto': 'La cantidad de dinero que han perdido fans por hacerle caso a celebridades en torno a la adquisición de criptomoned… https://t.co/UOjmvj4Jxq', 'likes': '1143'}, {'fecha': '2022-05-14 15:44:24+00:00', 'usuario': 'juanrallo', 'texto': 'Llevas diciendo que Bitcoin es una burbuja desde que cotizaba a 100 dólares. Que sepamos los patrones típicos de un… https://t.co/2inCgvPHnE', 'likes': '1423'}, {'fecha': '2022-05-14 16:01:48+00:00', 'usuario': 'wallstwolverine', 'texto': 'Los mismos políticos que asesoraban a Venezuela en sus políticas económicas te dan lecciones hoy de lo peligroso qu… https://t.co/wRje03EydN', 'likes': '1543'}, \n",
    "    {'fecha': '2022-05-18 06:18:46+00:00', 'usuario': 'EdgardoMulatoSV', 'texto': 'Ya se preguntaron, ¿Por qué sube la ola de homicidios y ataques al Gobierno cuando vienen INVERSIONISTAS al país?… https://t.co/T5PCT8RgKB', 'likes': '796'}]\n",
    "    ```\n",
    "\n",
    "2. Crear una función que reciba una lista de tweets como la que devuelve la función anterior, y devuelva un diccionario con los hashtags contenidos en los tweets y su frecuencia, tal y como se muestra en la siguiente salida:\n",
    "\n",
    "    ```sh\n",
    "    {'#Bitcoin': 3, '#Ethereum': 1}\n",
    "    ```"
   ]
  },
  {
   "cell_type": "markdown",
   "metadata": {},
   "source": [
    "# Solución"
   ]
  },
  {
   "cell_type": "code",
   "execution_count": 1,
   "metadata": {
    "tags": []
   },
   "outputs": [
    {
     "name": "stdout",
     "output_type": "stream",
     "text": [
      "[{'fecha': '2022-05-20 15:11:03+00:00', 'usuario': 'infobaeeconomia', 'texto': 'Bill Gates contra el Bitcoin: “No aporta nada” https://t.co/pZBlC664gw', 'likes': '496'}, {'fecha': '2022-05-21 14:26:51+00:00', 'usuario': 'DaniaGonzalz', 'texto': 'El Salvador hoy es un referente en materia de Inclusión Financiera gracias a la Ley #Bitcoin , países de la región c… https://t.co/P8oS2nfm36', 'likes': '554'}, {'fecha': '2022-05-20 20:42:04+00:00', 'usuario': 'LaHuellaSV', 'texto': 'El asesor en criptoeconomía y fundador de Criptokuántica, Néstor Kreimer, afirmó que El Salvador tiene actualmente… https://t.co/HbSqrQYk67', 'likes': '57'}, {'fecha': '2022-05-20 11:38:19+00:00', 'usuario': 'carmenaidalazo', 'texto': 'La ironía con bitcoin es que años de bajas tasas y politica monetaria expansiva alimentaron incrementos en precios… https://t.co/cm2mo86eKy', 'likes': '284'}, {'fecha': '2022-05-20 11:56:30+00:00', 'usuario': 'garciabanchs', 'texto': 'Cuando a soberbios del #Bitcoin aún les cambiaban los pañales, ya me quemaba las pestañas en mi doctorado de Econom… https://t.co/82tj5Dcalp', 'likes': '74'}, {'fecha': '2022-05-21 14:27:07+00:00', 'usuario': 'DaniaGonzalz', 'texto': '\"El Salvador es la capital del #Bitcoin #Ethereum , invitamos a todos los países a invertir en el futuro, por eso nuestro p… https://t.co/UnQVQZj7aw\"', 'likes': '89'}, {'fecha': '2022-05-14 00:07:00+00:00', 'usuario': 'ActualidadRT', 'texto': \"@ActualidadRT's account has been withheld in Belgium, Austria, Bulgaria, Sweden, Croatia, Spain, Slovenia, Cyprus, Slovakia, Czech Republic, Romania, Portugal, Poland, Denmark, Netherlands, Estonia, Malta, Luxembourg, Finland, France, Lithuania, Germany, Greece, Latvia, Hungary, Italy, Ireland, United Kingdom in response to a legal demand. Learn more.\", 'likes': '1037'}, {'fecha': '2022-05-14 14:01:45+00:00', 'usuario': 'ChiguireBipolar', 'texto': 'Testigo de Jehová se esconde de promotor del Bitcoin https://t.co/odVOELmYKu https://t.co/GOtuWLoGhT', 'likes': '1082'}, {'fecha': '2022-05-15 01:21:58+00:00', 'usuario': 'el_pais', 'texto': 'El Salvador convirtió al Bitcoin en su moneda legal. Con la caída de las criptomonedas, han caído en picado también… https://t.co/fFlk1P1LSj', 'likes': '551'}, {'fecha': '2022-05-13 23:00:28+00:00', 'usuario': 'garciabanchs', 'texto': 'La cantidad de dinero que han perdido fans por hacerle caso a celebridades en torno a la adquisición de criptomoned… https://t.co/UOjmvj4Jxq', 'likes': '1143'}, {'fecha': '2022-05-14 15:44:24+00:00', 'usuario': 'juanrallo', 'texto': 'Llevas diciendo que Bitcoin es una burbuja desde que cotizaba a 100 dólares. Que sepamos los patrones típicos de un… https://t.co/2inCgvPHnE', 'likes': '1423'}, {'fecha': '2022-05-14 16:01:48+00:00', 'usuario': 'wallstwolverine', 'texto': 'Los mismos políticos que asesoraban a Venezuela en sus políticas económicas te dan lecciones hoy de lo peligroso qu… https://t.co/wRje03EydN', 'likes': '1543'}, {'fecha': '2022-05-18 06:18:46+00:00', 'usuario': 'EdgardoMulatoSV', 'texto': 'Ya se preguntaron, ¿Por qué sube la ola de homicidios y ataques al Gobierno cuando vienen INVERSIONISTAS al país?… https://t.co/T5PCT8RgKB', 'likes': '796'}]\n",
      "{'#Bitcoin': 3, '#Ethereum': 1}\n"
     ]
    }
   ],
   "source": [
    "def parsear_tweets(url):\n",
    "    \"\"\"\n",
    "    Función que parsea un fichero csv con información de tweets organizada por campos y devuelve una lista de diccionarios donde cada diccionario contiene los campos de un tweet.\n",
    "    \n",
    "    Parámetros:\n",
    "        - url: Es una cadena con la url del fichero.\n",
    "    Salida:\n",
    "        Una lista de diccionarios donde cada diccionario contiene la información de los campos de un tweet.\n",
    "    \"\"\"\n",
    "    from urllib import request\n",
    "    from urllib.error import URLError\n",
    "    # Abrimos el diccionario en modo lectura\n",
    "    try:\n",
    "        # Abrimos el diccionario en modo lectura\n",
    "        with request.urlopen(url) as f:\n",
    "             # Leemos el contenido del fichero y creamos una lista con cada una de las líneas del contenido.\n",
    "            lista_contenido = f.read().decode(\"utf-8\").split(\"\\n\")\n",
    "    except URLError:\n",
    "        print(\"La url\", url, \"no existe.\")\n",
    "        return\n",
    "    else:\n",
    "        # Creamos una lista con los nombres de los campos que serán las claves de los diccionarios.\n",
    "        lista_claves = lista_contenido.pop(0).split(\";\")\n",
    "        # Creamos una lista vacía para guardar los diccionarios de los tweets.\n",
    "        lista_tweets = []\n",
    "        # Bucle iterativo para recorrer la lista de tweets.\n",
    "        for i in lista_contenido:\n",
    "            # Creamos un diccionario vacío para guardar la información del tweet.\n",
    "            dict_tweet = {}\n",
    "            # Creamos la lista de los campos dividiendo la cadena con la información del tweet por el separador punto y coma.\n",
    "            lista_campos = i.split(\";\")\n",
    "            # Bucle iterativo para recorrer la lista de campos\n",
    "            for j in range(len(lista_campos)):\n",
    "                # Añadimos al diccionario del tweet el par formado por el nombre del campo y la información correspondiente.\n",
    "                dict_tweet[lista_claves[j]] = lista_campos[j]\n",
    "            # Añadimos el diccionario con la información del tweet a la lista de diccionarios.\n",
    "            lista_tweets.append(dict_tweet)\n",
    "        return lista_tweets\n",
    "\n",
    "def hashtags(tweets):\n",
    "    \"\"\"\n",
    "    Función que recibe una lista de diccionarios con información de tweets y devuelve una lista con los hashtags contenidos en los tweets.\n",
    "    \n",
    "    Parámetros:\n",
    "        - tweets: Es una lista de diccionarios, donde cada diccionario contienen información de un tweet.\n",
    "    Salida:\n",
    "        - Una lista con los hashtags contenidos en los tweets.\n",
    "    \"\"\"\n",
    "    # Creamos una diccionario vacío para guardar los hashtags.\n",
    "    hashtags = {}\n",
    "    # Bucle iterativo para recorrer por valor los tweets.\n",
    "    for tweet in tweets:\n",
    "        # Creamos la lista de palabras del tweet dividiendo el texto del tweet por el espacio.\n",
    "        lista_palabras = tweet[\"texto\"].split(\" \")\n",
    "        # Bucle iterativo para recorrer las palabras del tweet por valor.\n",
    "        for palabra in lista_palabras:\n",
    "            # Condicional para ver si el primer caracter de la plabra es el símbolo #.\n",
    "            if palabra[0] == \"#\":\n",
    "                # Si el primer caracter de la palabra es el símbolo #, añadimos la palabra a la lista de hashtags.\n",
    "                # Condicional para ver si el hashtag está ya en el diccionario de hashtags.\n",
    "                if palabra in hashtags: \n",
    "                    # Si el hashtag está ya en el diccionario, incrementamos su frecuencia.\n",
    "                    hashtags[palabra] += 1\n",
    "                else:\n",
    "                    # Si el hashtag no está en el diccionario, lo añadimos con frecuencia 1.\n",
    "                    hashtags[palabra] = 1 \n",
    "    return hashtags\n",
    "\n",
    "# Ejemplo de prueba\n",
    "print(parsear_tweets(\"https://aprendeconalf.es/docencia/python/examenes/inteligencia-negocios/soluciones/examen-2022-06-04/bitcoin-tweets.csv\"))\n",
    "print(hashtags(parsear_tweets(\"https://aprendeconalf.es/docencia/python/examenes/inteligencia-negocios/soluciones/examen-2022-06-04/bitcoin-tweets.csv\")))\n",
    "\n"
   ]
  }
 ],
 "metadata": {
  "interpreter": {
   "hash": "e7370f93d1d0cde622a1f8e1c04877d8463912d04d973331ad4851f04de6915a"
  },
  "kernelspec": {
   "display_name": "Python 3.10.4 64-bit",
   "language": "python",
   "name": "python3"
  },
  "language_info": {
   "codemirror_mode": {
    "name": "ipython",
    "version": 3
   },
   "file_extension": ".py",
   "mimetype": "text/x-python",
   "name": "python",
   "nbconvert_exporter": "python",
   "pygments_lexer": "ipython3",
   "version": "3.10.4"
  }
 },
 "nbformat": 4,
 "nbformat_minor": 2
}
