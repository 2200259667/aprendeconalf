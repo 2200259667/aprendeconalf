{
 "cells": [
  {
   "cell_type": "markdown",
   "metadata": {},
   "source": [
    "# Ejercicio\n",
    "\n",
    "El fichero [coches.csv ](https://aprendeconalf.es/docencia/python/examenes/inteligencia-negocios/soluciones/examen-2022-06-04/coches.csv) contiene información sobre los modelos de coches vendidos en USA un determinado año. Se pide: \n",
    "\n",
    "1. Crear un DataFrame a partir del fichero anterior. \n",
    "2. Eliminar las filas con valores desconocidos y mostrar el número de filas del dataframe resultante. \n",
    "3. Crear una columna con el precio en euros (cambio 1$ = 0.94€) \n",
    "4. Mostrar por pantalla las 10 últimas filas del DataFrame. \n",
    "5. Mostrar por pantalla el número de marcas que contiene el DataFrame. \n",
    "6. Mostrar por pantalla el número de modelos de cada marca que hay en el DataFrame, de mayor a menor frecuencia. \n",
    "7. Mostrar por pantalla la marca y el modelo del coche más caro. \n",
    "8. Mostrar por pantalla el precio medio en euros de los coches agrupando por marca y ordenando de menor a mayor precio. \n",
    "9. Dibujar el diagrama de barras del porcentaje de modelos de cada marca. \n",
    "10. Dibujar el diagrama de dispersión de la potencia y el precio.  \n",
    "Los gráficos deben guardarse en una carpeta con el nombre gráficos y deben tener un título adecuado. "
   ]
  },
  {
   "cell_type": "markdown",
   "metadata": {},
   "source": [
    "# Solución"
   ]
  },
  {
   "cell_type": "code",
   "execution_count": 1,
   "metadata": {
    "tags": []
   },
   "outputs": [
    {
     "name": "stdout",
     "output_type": "stream",
     "text": [
      "     Marca                   Modelo   Tipo  Potencia   Precio\n",
      "0    Acura                      MDX    SUV     265.0  33337.0\n",
      "1    Acura           RSX Type S 2dr  Sedan     200.0  21761.0\n",
      "2    Acura                  TSX 4dr  Sedan     200.0  24647.0\n",
      "3    Acura                   TL 4dr  Sedan     270.0  30299.0\n",
      "4    Acura               3.5 RL 4dr  Sedan     225.0  39014.0\n",
      "..     ...                      ...    ...       ...      ...\n",
      "423  Volvo  C70 LPT convertible 2dr  Sedan     197.0  38203.0\n",
      "424  Volvo  C70 HPT convertible 2dr  Sedan     242.0  40083.0\n",
      "425  Volvo               S80 T6 4dr  Sedan     268.0  42573.0\n",
      "426  Volvo                      V40  Wagon     170.0  24641.0\n",
      "427  Volvo                     XC70  Wagon     208.0  33112.0\n",
      "\n",
      "[428 rows x 5 columns]\n"
     ]
    }
   ],
   "source": [
    "import pandas as pd\n",
    "import matplotlib.pyplot as plt\n",
    "\n",
    "# Creamos el dataframe desde el fichero csv.\n",
    "df = pd.read_csv(\"https://aprendeconalf.es/docencia/python/examenes/inteligencia-negocios/soluciones/examen-2022-06-04/coches.csv\", sep = \";\")\n",
    "print(df)"
   ]
  },
  {
   "cell_type": "code",
   "execution_count": 2,
   "metadata": {},
   "outputs": [
    {
     "name": "stdout",
     "output_type": "stream",
     "text": [
      "Número de filas: 421\n",
      "Número de columnas: 5\n"
     ]
    }
   ],
   "source": [
    "# Eliminar las filas con valores desconocidos y mostrar el número de filas del dataframe resultante.\n",
    "df.dropna(inplace = True)\n",
    "filas, columnas = df.shape\n",
    "print(\"Número de filas:\", filas)\n",
    "print(\"Número de columnas:\", columnas)\n"
   ]
  },
  {
   "cell_type": "code",
   "execution_count": 3,
   "metadata": {},
   "outputs": [
    {
     "name": "stdout",
     "output_type": "stream",
     "text": [
      "     Marca                   Modelo   Tipo  Potencia   Precio   Precio€\n",
      "418  Volvo              S60 2.5 4dr  Sedan     208.0  29916.0  28121.04\n",
      "419  Volvo               S60 T5 4dr  Sedan     247.0  32902.0  30927.88\n",
      "420  Volvo                S60 R 4dr  Sedan     300.0  35382.0  33259.08\n",
      "421  Volvo              S80 2.9 4dr  Sedan     208.0  35542.0  33409.48\n",
      "422  Volvo             S80 2.5T 4dr  Sedan     194.0  35688.0  33546.72\n",
      "423  Volvo  C70 LPT convertible 2dr  Sedan     197.0  38203.0  35910.82\n",
      "424  Volvo  C70 HPT convertible 2dr  Sedan     242.0  40083.0  37678.02\n",
      "425  Volvo               S80 T6 4dr  Sedan     268.0  42573.0  40018.62\n",
      "426  Volvo                      V40  Wagon     170.0  24641.0  23162.54\n",
      "427  Volvo                     XC70  Wagon     208.0  33112.0  31125.28\n"
     ]
    }
   ],
   "source": [
    "# Crear una columna con el precio en euros (cambio 1$ = 0.94€)\n",
    "df[\"Precio€\"] = df.Precio * 0.94\n",
    "# Mostrar las últimas 10 filas del dataframe\n",
    "print(df.tail(10))\n"
   ]
  },
  {
   "cell_type": "code",
   "execution_count": 4,
   "metadata": {},
   "outputs": [
    {
     "name": "stdout",
     "output_type": "stream",
     "text": [
      "Número de marcas: 38\n"
     ]
    }
   ],
   "source": [
    "# Mostrar el número de marcas\n",
    "print(\"Número de marcas:\", len(df.Marca.unique()))\n"
   ]
  },
  {
   "cell_type": "code",
   "execution_count": 5,
   "metadata": {},
   "outputs": [
    {
     "name": "stdout",
     "output_type": "stream",
     "text": [
      "Toyota           28\n",
      "Chevrolet        27\n",
      "Mercedes-Benz    26\n",
      "Ford             23\n",
      "BMW              19\n",
      "Audi             19\n",
      "Nissan           17\n",
      "Honda            16\n",
      "Volkswagen       15\n",
      "Chrysler         14\n",
      "Dodge            13\n",
      "Mitsubishi       13\n",
      "Volvo            12\n",
      "Hyundai          12\n",
      "Jaguar           12\n",
      "Kia              11\n",
      "Mazda            11\n",
      "Pontiac          10\n",
      "Subaru           10\n",
      "Lexus            10\n",
      "Lincoln           9\n",
      "Buick             9\n",
      "Mercury           9\n",
      "Cadillac          8\n",
      "Suzuki            8\n",
      "Infiniti          8\n",
      "GMC               8\n",
      "Saturn            8\n",
      "Saab              7\n",
      "Porsche           7\n",
      "Acura             7\n",
      "Oldsmobile        3\n",
      "Land Rover        3\n",
      "MINI              2\n",
      "Scion             2\n",
      "Isuzu             2\n",
      "Jeep              2\n",
      "Hummer            1\n",
      "Name: Marca, dtype: int64\n"
     ]
    }
   ],
   "source": [
    "# Mostrar una tabla con el número de coches de cada marca de mayor a menor frecuencia\n",
    "print(df.Marca.value_counts(ascending = False))\n"
   ]
  },
  {
   "cell_type": "code",
   "execution_count": 6,
   "metadata": {},
   "outputs": [
    {
     "name": "stdout",
     "output_type": "stream",
     "text": [
      "       Marca       Modelo\n",
      "334  Porsche  911 GT2 2dr\n"
     ]
    }
   ],
   "source": [
    "# Mostrar la marca y modelo del coche más caro.\n",
    "print(df[df.Precio == df.Precio.max()][[\"Marca\", \"Modelo\"]])\n"
   ]
  },
  {
   "cell_type": "code",
   "execution_count": 7,
   "metadata": {},
   "outputs": [
    {
     "name": "stdout",
     "output_type": "stream",
     "text": [
      "Marca\n",
      "Scion            12135.400000\n",
      "Kia              13996.941818\n",
      "Suzuki           14937.775000\n",
      "Hyundai          15073.213333\n",
      "Saturn           15103.920000\n",
      "MINI             15779.780000\n",
      "Honda            18773.092500\n",
      "Mazda            18980.907273\n",
      "Toyota           19078.172857\n",
      "Jeep             19856.560000\n",
      "Oldsmobile       20444.060000\n",
      "Mitsubishi       20524.683077\n",
      "Ford             20635.820000\n",
      "Pontiac          20878.528000\n",
      "Subaru           21351.442000\n",
      "Nissan           21617.622353\n",
      "Chevrolet        22617.165926\n",
      "Dodge            22710.472308\n",
      "Isuzu            23141.860000\n",
      "Chrysler         23778.105714\n",
      "Mercury          24118.102222\n",
      "GMC              24712.012500\n",
      "Buick            26183.595556\n",
      "Volkswagen       27901.706667\n",
      "Infiniti         30907.200000\n",
      "Volvo            32163.196667\n",
      "Saab             33483.068571\n",
      "Acura            36275.405714\n",
      "Lincoln          36787.631111\n",
      "Audi             36970.298947\n",
      "BMW              37391.864211\n",
      "Lexus            37501.864000\n",
      "Land Rover       39339.940000\n",
      "Hummer           43066.100000\n",
      "Cadillac         43641.262500\n",
      "Jaguar           52732.511667\n",
      "Mercedes-Benz    53066.109231\n",
      "Porsche          69243.085714\n",
      "Name: Precio€, dtype: float64\n"
     ]
    }
   ],
   "source": [
    "# Precio medio en euros de los coches por marcas\n",
    "print(df.groupby(\"Marca\")[\"Precio€\"].mean().sort_values())\n"
   ]
  },
  {
   "cell_type": "code",
   "execution_count": 8,
   "metadata": {},
   "outputs": [
    {
     "data": {
      "image/png": "[encoded data removed]",
      "text/plain": [
       "<Figure size 432x288 with 1 Axes>"
      ]
     },
     "metadata": {
      "needs_background": "light"
     },
     "output_type": "display_data"
    }
   ],
   "source": [
    "# Diagrama de barras del porcentaje de modelos por marcas\n",
    "df.Marca.value_counts(normalize = True).plot(kind = \"barh\", title = \"Distribución del número de modelos por marca\")\n",
    "plt.show()\n"
   ]
  },
  {
   "cell_type": "code",
   "execution_count": 9,
   "metadata": {},
   "outputs": [
    {
     "data": {
      "image/png": "[encoded data removed]",
      "text/plain": [
       "<Figure size 432x288 with 1 Axes>"
      ]
     },
     "metadata": {
      "needs_background": "light"
     },
     "output_type": "display_data"
    }
   ],
   "source": [
    "# Diagrama de dispersión de la potencia y el precio\n",
    "df.plot(x = \"Potencia\", y = \"Precio€\", kind = \"scatter\", title = \"Diagrama de dispersión de la potencia frente al precio\")\n",
    "plt.show()"
   ]
  }
 ],
 "metadata": {
  "interpreter": {
   "hash": "e7370f93d1d0cde622a1f8e1c04877d8463912d04d973331ad4851f04de6915a"
  },
  "kernelspec": {
   "display_name": "Python 3.10.4 64-bit",
   "language": "python",
   "name": "python3"
  },
  "language_info": {
   "codemirror_mode": {
    "name": "ipython",
    "version": 3
   },
   "file_extension": ".py",
   "mimetype": "text/x-python",
   "name": "python",
   "nbconvert_exporter": "python",
   "pygments_lexer": "ipython3",
   "version": "3.10.4"
  }
 },
 "nbformat": 4,
 "nbformat_minor": 2
}
