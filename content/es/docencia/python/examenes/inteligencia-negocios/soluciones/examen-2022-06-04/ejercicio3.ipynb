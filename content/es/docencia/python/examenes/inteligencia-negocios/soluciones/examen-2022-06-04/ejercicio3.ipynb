{
 "cells": [
  {
   "cell_type": "markdown",
   "metadata": {},
   "source": [
    "# Ejercicio\n",
    "\n",
    "Existe un texto que se usa frecuentemente para demostraciones dentro del ámbito del diseño gráfico. De hecho, este texto cuyo nombre es Lorem ipsum es un estándar utilizado desde el año 1500 y sirve principalmente para probar el diseño visual antes de insertar el texto definitivo. Dicho pasaje es el siguiente:\n",
    "\n",
    "_\"Lorem ipsum dolor sit amet, consectetur adipiscing elit, sed do eiusmod tempor incididunt ut labore et dolore magna aliqua. Ut enim ad minim veniam, quis nostrud exercitation ullamco laboris nisi ut aliquip ex ea commodo consequat. Duis aute irure dolor in reprehenderit in voluptate velit esse cillum dolore eu fugiat nulla pariatur. Excepteur sint occaecat cupidatat non proident, sunt in culpa qui officia deserunt mollit anim id est laborum.\"_\n",
    "\n",
    "Realizar un programa que analice dicho pasaje y realice las siguientes operaciones:\n",
    "\n",
    "1. Crear un diccionario con la frecuencia de cada carácter sin tener en cuenta el espacio.\n",
    "2. Muestre por pantalla el caracer que más se repite.\n",
    "3. Muestre por pantalla las palabras que contienen el caracter más repetido y su frecuencia por palabra.\n",
    "\n",
    "**Ejemplo de ejecución**\n",
    "\n",
    "```sh\n",
    "Carácter más repetido: i\n",
    "Las palabras donde se encuentra el carácter que más se repite:\n",
    "{'ipsum': 1, 'sit': 1, 'adipiscing': 3, 'elit,': 1, 'eiusmod': 1, 'incididunt': 3, 'aliqua.': 1, 'enim': 1, 'minim': 2, 'veniam,': 1, 'quis': 1, 'exercitation': 2, 'laboris': 1, 'nisi': 2, 'aliquip': 2, 'Duis': 1, 'irure': 1, 'in': 1, 'reprehenderit': 1, 'velit': 1, 'cillum': 1, 'fugiat': 1, 'pariatur.': 1, 'sint': 1, 'cupidatat': 1, 'proident,': 1, 'qui': 1, 'officia': 2, 'mollit': 1, 'anim': 1, 'id': 1}\n",
    "```"
   ]
  },
  {
   "cell_type": "markdown",
   "metadata": {},
   "source": [
    "# Solución"
   ]
  },
  {
   "cell_type": "code",
   "execution_count": 1,
   "metadata": {
    "tags": []
   },
   "outputs": [
    {
     "name": "stdout",
     "output_type": "stream",
     "text": [
      "{'L': 1, 'o': 29, 'r': 22, 'e': 37, 'm': 17, 'i': 42, 'p': 11, 's': 18, 'u': 28, 'd': 18, 'l': 21, 't': 32, 'a': 29, ',': 4, 'c': 16, 'n': 24, 'g': 3, 'b': 3, 'q': 5, '.': 4, 'U': 1, 'v': 3, 'x': 3, 'D': 1, 'h': 1, 'f': 3, 'E': 1}\n",
      "Carácter más repetido: i\n",
      "{'ipsum': 1, 'sit': 1, 'adipiscing': 3, 'elit,': 1, 'eiusmod': 1, 'incididunt': 3, 'aliqua.': 1, 'enim': 1, 'minim': 2, 'veniam,': 1, 'quis': 1, 'exercitation': 2, 'laboris': 1, 'nisi': 2, 'aliquip': 2, 'Duis': 1, 'irure': 1, 'in': 1, 'reprehenderit': 1, 'velit': 1, 'cillum': 1, 'fugiat': 1, 'pariatur.': 1, 'sint': 1, 'cupidatat': 1, 'proident,': 1, 'qui': 1, 'officia': 2, 'mollit': 1, 'anim': 1, 'id': 1}\n"
     ]
    }
   ],
   "source": [
    "# Definimos una variable con la cadena a analizar.\n",
    "texto = \"Lorem ipsum dolor sit amet, consectetur adipiscing elit, sed do eiusmod tempor incididunt ut labore et dolore magna aliqua. Ut enim ad minim veniam, quis nostrud exercitation ullamco laboris nisi ut aliquip ex ea commodo consequat. Duis aute irure dolor in reprehenderit in voluptate velit esse cillum dolore eu fugiat nulla pariatur. Excepteur sint occaecat cupidatat non proident, sunt in culpa qui officia deserunt mollit anim id est laborum.\" \n",
    "# Definimos un diccionario vacío para ir guardando la frecuencia de cada carácter.\n",
    "frecuencias = {} \n",
    "# Bucle iterativo para recorrer por valor los caracteres de la frase una vez eliminados los espacios. i toma como valores los caracteres de la frase.\n",
    "for i in texto.replace(\" \", \"\"): \n",
    "    # Condicional para ver si el carácter está ya como clave en el diccionario.\n",
    "    if i in frecuencias:  # El carácter es ya una clave del diccionario.\n",
    "        # Incrementamos la frecuencia del carácter en 1.\n",
    "        frecuencias[i] += 1\n",
    "    else:  # El carácter no es una clave del diccionario.\n",
    "        # Añadimos al diccionario un nuevo par con clave el carácter y valor 1.\n",
    "        frecuencias[i] = 1 \n",
    "# Mostramos por pantalla el diccionario.\n",
    "print(frecuencias) \n",
    "# Calculamos el máximo valor del diccionario.\n",
    "frec_max = max(frecuencias.values()) \n",
    "# Obtenemos la posición del máximo en la lista de los valores del diccionario.\n",
    "pos_max = list(frecuencias.values()).index(frec_max) \n",
    "# Obtenemos el caracter más repetido en la misma posición de la lista de claves.\n",
    "caracter_max = list(frecuencias.keys())[pos_max]\n",
    "# Mostramos por pantalla el carácter más repetido.\n",
    "print(\"Carácter más repetido:\", caracter_max)   \n",
    "# Definimos un diccionario vacío para añadir las palabras que contienen el caracter más repetido y su frecuencia.\n",
    "palabras = {}\n",
    "# Creamos una lista de palabras dividiendo el texto por el espacio.\n",
    "texto  = texto.split(\" \")\n",
    "# Bucle iterativo para recorrer por valor las palabras de la lista.\n",
    "for i in texto:\n",
    "    # Condicional para ver si la palabra contiene el carácter más repetido y no está aún en el diccionario.\n",
    "    if caracter_max in i and not i in palabras: \n",
    "        # Inicializamos a 0 un contador para la frecuencia del carácter en la palabra.\n",
    "        freq = 0\n",
    "        # Bucle iterativo para recorrer por valor los caracteres de la palabra.\n",
    "        for j in i:\n",
    "            # Condicional para ver si el carácter coincide con el más repetido.\n",
    "            if j == caracter_max:\n",
    "                # Si el carácter es el más repetido incrementamos su frecuencia en 1.\n",
    "                freq += 1\n",
    "        # Añadimos al diccionario de palabras la palabra y su frecuencia.\n",
    "        palabras[i] = freq\n",
    "# Mostramos por pantalla el diccionario de palabras.\n",
    "print(palabras)"
   ]
  }
 ],
 "metadata": {
  "interpreter": {
   "hash": "e7370f93d1d0cde622a1f8e1c04877d8463912d04d973331ad4851f04de6915a"
  },
  "kernelspec": {
   "display_name": "Python 3.10.4 64-bit",
   "language": "python",
   "name": "python3"
  },
  "language_info": {
   "codemirror_mode": {
    "name": "ipython",
    "version": 3
   },
   "file_extension": ".py",
   "mimetype": "text/x-python",
   "name": "python",
   "nbconvert_exporter": "python",
   "pygments_lexer": "ipython3",
   "version": "3.10.4"
  }
 },
 "nbformat": 4,
 "nbformat_minor": 2
}
