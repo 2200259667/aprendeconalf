{
 "cells": [
  {
   "cell_type": "markdown",
   "metadata": {},
   "source": [
    "# Ejercicio\n",
    "\n",
    "Escriba un programa que obtenga el máximo y el mínimo de una serie de datos proporcionados en Hexadecimal. Para ello se le pasará una lista de datos en formato hexadecimal, y tendrá que convertirlos primero a formato Binario, y a continuación a formato Decimal. Para ello, se pide lo siguiente:\n",
    "\n",
    "1. Crear una función de conversión de formato hexadecimal a binario en base a la siguiente tabla\n",
    "    \n",
    "    | Hexadecimal |  0   |  1   |  2   |  3   |  4   |  5   |  6   |  7   |\n",
    "    | :---------- | :--: | :--: | :--: | :--: | :--: | :--: | :--: | :--: |\n",
    "    | Decimal     | 0000 | 0001 | 0010 | 0011 | 0100 | 0101 | 0110 | 0111 |\n",
    "   \n",
    "    | Hexadecimal |  8   |  9   |  A   |  B   |  C   |  D   |  E   |  F   |\n",
    "    | :---------- | :--: | :--: | :--: | :--: | :--: | :--: | :--: | :--: |\n",
    "    | Decimal     | 1000 | 1001 | 1010 | 1011 | 1100 | 1101 | 1110 | 1111 |\n",
    "\n",
    "    **Ejemplo de ejecución**\n",
    "    ```sh\n",
    "    Introduce un número hexadecimal: AA55\n",
    "    El número hexadecimal AA55 en binario es 1010101001010101\n",
    "    ```\n",
    "\n",
    "2. Crear una función de conversión de formato binario a decimal. El procedimiento se detalla a continuación:\n",
    "\n",
    "    ![Conversión de binario a decimal](../../img/conversion-binario-decimal.png)\n",
    "\n",
    "    **Ejemplo de ejecución**\n",
    "    ```sh\n",
    "    Introduce un número binario: 1010101001010101\n",
    "    El número binario 1010101001010101 es en decimal 43605\n",
    "    ```\n",
    "\n",
    "3. Crear una función que reciba una lista de números hexadecimales y devuelva una tupla con el máximo y su valor decimal.\n",
    "\n",
    "    **Ejemplo de ejecución**\n",
    "    \n",
    "    Usando como entrada de la última función la lista: `[\"AA55\", \"1010\", \"BEBE\", \"0101\", \"0FEA\"]`\n",
    "    ```sh\n",
    "    Máximo: ('BEBE', 48830)\n",
    "    ```"
   ]
  },
  {
   "cell_type": "markdown",
   "metadata": {},
   "source": [
    "# Solución"
   ]
  },
  {
   "cell_type": "code",
   "execution_count": 2,
   "metadata": {
    "tags": []
   },
   "outputs": [
    {
     "name": "stdout",
     "output_type": "stream",
     "text": [
      "El número hexadecimal AA55 es 43605 en binario.\n",
      "('BEBE', 48830)\n"
     ]
    }
   ],
   "source": [
    "def conversion_hex_bin(num_hex):\n",
    "    \"\"\"\n",
    "    Función que convierte un número hexadecimal en binario.\n",
    "    \n",
    "    Parámetros:\n",
    "        - num_hex: Es una cadena con un número hexadecimal.\n",
    "    Salida:\n",
    "        - Una cadena con el número binario correspondiente al número hexadecimal dado.\n",
    "    \"\"\"\n",
    "    # Definimos un diccionario con el número binario asociado a cada dígito hexadecimal\n",
    "    hexbin = {\"0\":\"0000\", \"1\":\"0001\", \"2\":\"0010\", \"3\":\"0011\", \"4\":\"0100\", \"5\":\"0101\", \"6\":\"0110\", \"7\":\"0111\", \"8\":\"1000\", \"9\":\"1001\", \"A\":\"1010\", \"B\":\"1011\", \"C\":\"1100\", \"D\":\"1101\", \"E\":\"1110\", \"F\":\"1111\"}\n",
    "    # Inicializamos la cadena para guardar el número binario a la cadena vacía.\n",
    "    num_bin = \"\" \n",
    "    # Bucle iterativo para recorrer los dígitos del número hexadecimal por valor. i toma como valores cada uno de los caracteres que forman la cadena con el número hexadecimal.\n",
    "    for i in num_hex: \n",
    "        try:\n",
    "            # Accedemos al diccionario mediante la clave correspondiente al dígito hexadecimal y añadimos a la cadena con el número binario los dígitos binarios correspondientes al dígito hexadecimal.\n",
    "            num_bin += hexbin[i]\n",
    "        # Controlamos la excepción en caso de que alguno de los dígitos del número hexadecimal no sea válido.\n",
    "        except KeyError:\n",
    "            return \"El número introducido no es hexadecimal.\"\n",
    "    # Devolvemos la cadena con el número binario.\n",
    "    return num_bin\n",
    "\n",
    "def conversion_bin_dec(num_bin):\n",
    "    \"\"\"\n",
    "    Función que convierte un número binario en decimal.\n",
    "    Parámetros:\n",
    "        - num_bin: Es una cadena con un número binario.\n",
    "    Salida:\n",
    "        - El número decimal correspondiente al número binario dado.\n",
    "    \"\"\" \n",
    "    # Convertimos la cadena con el número binario en una lista de caracteres. Cada dígito del número binario es un elemento de la lista.\n",
    "    num_bin = list(num_bin) \n",
    "    # Para recorrer la lista de derecha a izquierda la invertimos.\n",
    "    num_bin.reverse()\n",
    "    # Inicializamos a 0 una variable entera para ir guardando el número decimal. \n",
    "    num_dec = 0 \n",
    "    # Bucle iterativo para recorrer la lista de dígitos binarios por posición. i toma como valores los enteros de la secuencia desde 0 al tamaño de la lista menos 1.\n",
    "    for i in range(len(num_bin)): \n",
    "        # Multiplicamos el dígito binario por la potencia de 2 correspondiente a la posición del dígito en la lista y lo sumamos al número decimal.\n",
    "        num_dec += int(num_bin[i]) * 2 ** i \n",
    "    # Devolvemos el número decimal\n",
    "    return num_dec\n",
    "\n",
    "def maximo_hex(lista_hex):\n",
    "    \"\"\"\n",
    "    Función que devuelve el número mayor de una lista de números hexadecimales.\n",
    "\n",
    "    Parámetros:\n",
    "        - lista_hex: Es una lista de cadenas con números hexadecimales.\n",
    "    Salida:\n",
    "        El número mayor de la lista de números hexadecimales dada y su valor decimal.\n",
    "    \"\"\"\n",
    "    # Inicializamos una lista vacía para guardar los números decimales correspondientes a los números hexadecimales.\n",
    "    lista_dec = []\n",
    "    # Bulce iterativo para recorrer los valores de la lista de números hexadecimales. i toma como valores cada uno de los números hexadecimales de la lista.\n",
    "    for i in lista_hex:\n",
    "        # Aplicamos a cada número hexadecimal la función de conversión a binario y después la función de conversión a decimal y añadimos el número decimal obtenido a la lista de números decimales.\n",
    "        lista_dec.append(conversion_bin_dec(conversion_hex_bin(i)))\n",
    "    # Obtenemos el máximo valor de la lista de números decimales.\n",
    "    max_dec = max(lista_dec)\n",
    "    # Obtenemos el número hexadecimal máximo accediendo a la misma posición de la lista de números hexadecimales que ocupa el máximo de la lista de números decimales.\n",
    "    max_hex = lista_hex[lista_dec.index(max_dec)]\n",
    "    # Devolvemos una tupla con el número hexadecimal máximo y su valor decimal.\n",
    "    return (max_hex, max_dec)\n",
    "\n",
    "# Ejemplo de prueba\n",
    "print(\"El número hexadecimal AA55 es\", conversion_bin_dec(conversion_hex_bin(\"AA55\")), \"en binario.\")\n",
    "\n",
    "hex = [\"AA55\", \"1010\", \"BEBE\", \"0101\", \"0FEA\"] \n",
    "print(maximo_hex(hex))\n"
   ]
  }
 ],
 "metadata": {
  "interpreter": {
   "hash": "e7370f93d1d0cde622a1f8e1c04877d8463912d04d973331ad4851f04de6915a"
  },
  "kernelspec": {
   "display_name": "Python 3.10.4 64-bit",
   "language": "python",
   "name": "python3"
  },
  "language_info": {
   "codemirror_mode": {
    "name": "ipython",
    "version": 3
   },
   "file_extension": ".py",
   "mimetype": "text/x-python",
   "name": "python",
   "nbconvert_exporter": "python",
   "pygments_lexer": "ipython3",
   "version": "3.10.4"
  }
 },
 "nbformat": 4,
 "nbformat_minor": 2
}
