{
 "cells": [
  {
   "cell_type": "markdown",
   "metadata": {},
   "source": [
    "# Ejercicio\n",
    "\n",
    "Realizar un programa que pregunte al usuario por un número entero impar y dibuje un rombo con el número de filas introducidas por el usuario.\n",
    "\n",
    "**Ejemplo de ejecución**\n",
    "\n",
    "```sh\n",
    "Introduce el número de filas del rombo (un número impar): 7\n",
    "   *\n",
    "  ***\n",
    " *****\n",
    "*******\n",
    " *****\n",
    "  ***\n",
    "   *\n",
    "```"
   ]
  },
  {
   "cell_type": "markdown",
   "metadata": {},
   "source": [
    "# Solución 1"
   ]
  },
  {
   "cell_type": "code",
   "execution_count": 1,
   "metadata": {
    "tags": []
   },
   "outputs": [
    {
     "name": "stdout",
     "output_type": "stream",
     "text": [
      "   *\n",
      "  ***\n",
      " *****\n",
      "*******\n",
      " *****\n",
      "  ***\n",
      "   *\n"
     ]
    }
   ],
   "source": [
    "# Preguntamos el número de filas del rombo\n",
    "n = int(input(\"Introduce el número de filas (un número impar): \"))\n",
    "# Otenemos el cociente de la división entera del número de filas del rombo por 2\n",
    "m = n // 2\n",
    "# Bucle iterativo para recorrer por posición las filas de la mitad superior del rombo. i toma como valores los valores de la secuencia de enteros desde 1 hasta la mitad de las filas del rombo.\n",
    "for i in range(1, m + 1):\n",
    "    # Mostramos por pantalla la cadena que contiene m-i espacios y 2*i-1 asteriscos. A medida que i se va incrementando, los espacios disminuyen y el número de asteriscos de cada línea aumenta.\n",
    "    print(\" \" * (m - i), \"*\" * (2 * i - 1))\n",
    "# Mostramos por pantalla la línea central del rombo que tendrá tantos asteriscos como el número de filas del rombo.\n",
    "print(\"*\" * n)\n",
    "# Bucle iterativo para recorrer por posición las filas de la mitad inferior del rombo. i toma como valores los valores de la secuencia de enteros desde m hasta 1.\n",
    "for i in range(m, 0, -1):\n",
    "    # Mostramos por pantalla la cadena que contiene m-i espacios y 2*i-1 asteriscos. A medida que i se va decrementando, los espacios aumentan y el número de asteriscos de cada línea disminuye.\n",
    "    print(\" \" * (m - i), \"*\" * (2 * i - 1)) \n"
   ]
  },
  {
   "cell_type": "markdown",
   "metadata": {},
   "source": [
    "## Solución 2"
   ]
  },
  {
   "cell_type": "code",
   "execution_count": 2,
   "metadata": {},
   "outputs": [
    {
     "name": "stdout",
     "output_type": "stream",
     "text": [
      "   *\n",
      "  ***\n",
      " *****\n",
      "*******\n",
      " *****\n",
      "  ***\n",
      "   *\n"
     ]
    }
   ],
   "source": [
    "# Preguntamos el número de filas del rombo\n",
    "n = int(input(\"Introduce el número de filas (un número impar): \"))\n",
    "# Otenemos el cociente de la división entera del número de filas del rombo por 2\n",
    "m = n // 2\n",
    "# Bucle iterativo para recorrer por posición las filas de la mitad superior del rombo. i toma como valores los valores de la secuencia de enteros desde 1 hasta la mitad de las filas del rombo.\n",
    "for i in range(m):\n",
    "    # Bucle iterativo para mostrar los espacios de cada línea de la mitad superior del rombo. A medida que i se va incrementando, los espacios disminuyen.\n",
    "    for j in range(m - i):\n",
    "        print(\" \", end = \"\")\n",
    "    # Bucle iterativo para mostrar los asteriscos de cada línea de la mitad superior del rombo. A medida que i se va incrementando, los asteriscos aumentan.\n",
    "    for j in range(2 * i + 1):\n",
    "        print(\"*\", end = \"\")\n",
    "    # Cambiamos de línea\n",
    "    print(\"\")\n",
    "# Mostramos por pantalla la línea central del rombo que tendrá tantos asteriscos como el número de filas del rombo.\n",
    "print(\"*\" * n)\n",
    "# Bucle iterativo para recorrer por posición las filas de la mitad inferior del rombo. i toma como valores los valores de la secuencia de enteros desde m hasta 1.\n",
    "for i in range(m, 0, -1):\n",
    "    # Bucle iterativo para mostrar los espacios de cada línea de la mitad inferior del rombo. A medida que i se va decrementando, los espacios aumentan.\n",
    "    for j in range(m - i + 1):\n",
    "        print(\" \", end = \"\")\n",
    "    # Bucle iterativo para mostrar los asteriscos de cada línea de la mitad inferior del rombo. A medida que i se va decrementando, los asteriscos disminuyen.\n",
    "    for j in range(2 * i - 1):\n",
    "        print(\"*\", end = \"\")\n",
    "    # Cambiamos de línea\n",
    "    print(\"\")"
   ]
  }
 ],
 "metadata": {
  "interpreter": {
   "hash": "e7370f93d1d0cde622a1f8e1c04877d8463912d04d973331ad4851f04de6915a"
  },
  "kernelspec": {
   "display_name": "Python 3.10.4 64-bit",
   "language": "python",
   "name": "python3"
  },
  "language_info": {
   "codemirror_mode": {
    "name": "ipython",
    "version": 3
   },
   "file_extension": ".py",
   "mimetype": "text/x-python",
   "name": "python",
   "nbconvert_exporter": "python",
   "pygments_lexer": "ipython3",
   "version": "3.10.4"
  }
 },
 "nbformat": 4,
 "nbformat_minor": 2
}
