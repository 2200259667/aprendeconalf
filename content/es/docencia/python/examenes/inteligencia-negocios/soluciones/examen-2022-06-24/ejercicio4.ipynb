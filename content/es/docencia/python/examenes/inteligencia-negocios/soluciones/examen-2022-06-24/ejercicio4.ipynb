{
 "cells": [
  {
   "cell_type": "markdown",
   "metadata": {},
   "source": [
    "# Ejercicio\n",
    "\n",
    "El fichero [bank-loans.csv](https://aprendeconalf.es/docencia/python/examenes/inteligencia-negocios/soluciones/examen-2022-06-24/bank-loans.csv) contiene información sobre los préstamos de los clientes de un banco. Utilizando ficheros (sin usar la librería Pandas), crear una función que tenga como parámetros la url del fichero, el nombre de una columna cualitativa y un booleano para los porcentajes (False por defecto), que devuelva un diccionario con las frecuencias absolutas de las categorías de la columna indicada. Si se pasa True como argumento del parámetro para el porcentaje, la función debe devolver el diccionario de porcentajes de las categorías. \n",
    "\n",
    "\n",
    "**Ejemplo de ejecución**\n",
    "\n",
    "Salida de la llamada a la función con la columna \"education\".\n",
    "\n",
    "```sh\n",
    "{'basic.4y': 1299, 'high.school': 2382, 'basic.6y': 761, 'basic.9y': 1820, 'professional.course': 1142, 'unknown': 485, 'university.degree': 2109, 'illiterate': 2}\n",
    "```\n",
    "\n",
    "Salida de la llamada a la función con la columna \"housing\" y porcentaje = `True`.\n",
    "\n",
    "```sh\n",
    "{'no': 51.88, 'yes': 45.24, 'unknown': 2.88}\n",
    "```"
   ]
  },
  {
   "cell_type": "markdown",
   "metadata": {},
   "source": [
    "# Solución"
   ]
  },
  {
   "cell_type": "code",
   "execution_count": 1,
   "metadata": {
    "tags": []
   },
   "outputs": [
    {
     "name": "stdout",
     "output_type": "stream",
     "text": [
      "{'basic.4y': 1299, 'high.school': 2382, 'basic.6y': 761, 'basic.9y': 1820, 'professional.course': 1142, 'unknown': 485, 'university.degree': 2109, 'illiterate': 2}\n",
      "{'no': 51.88, 'yes': 45.24, 'unknown': 2.88}\n"
     ]
    }
   ],
   "source": [
    "# Importamos las librerías\n",
    "from urllib import request\n",
    "from urllib.error import URLError\n",
    "\n",
    "def frecuencias(url, columna, porcentaje = False):\n",
    "    '''\n",
    "    Función que calcula la tabla de frecuencias absoluta o relativa de una columna de un fichero csv.\n",
    "    \n",
    "    Parámetros:\n",
    "        - url: Es una cadena con la url del fichero csv.\n",
    "        - columna: Es una cadena con el nombre de la columna.\n",
    "        - porcentaje: Es un booleano (False por defecto) que indica si las frecuencias son relativas o no.\n",
    "    \n",
    "    Salida:\n",
    "        Un diccionario con las categorías de la columna y sus frecuencias.\n",
    "    '''\n",
    "    try:\n",
    "        # Intentamos abrir el fichero a partir de su url.\n",
    "        with request.urlopen(url) as f:\n",
    "            # Leemos el contenido del fichero, lo decodificamos y creamos una lista partiendo el contenido por el carácter de cambio de linea.\n",
    "            contenido = f.read().decode().split(\"\\n\")\n",
    "    except URLError:\n",
    "        # Si no existe el fichero en la url indicada controlamos el error y avisamos al usuario.\n",
    "        print(\"La url\", url, \"no existe\")\n",
    "    else:\n",
    "        # Creamos una lista con los encabezados dividiendo la primera línea por la coma. \n",
    "        encabezado = contenido.pop(0).split(\",\")\n",
    "        # Obtenemos la posición de la columna indicada en la lista de encabezados.\n",
    "        numcol = encabezado.index(columna)\n",
    "        # Inicializamos un diccionario vacío para ir guardando los pares con las categorías y sus frecuencias.\n",
    "        dic_frec = {}\n",
    "        # Bucle iterativo para recorrer por valor las líneas del fichero.\n",
    "        # i toma como valores las líneas del fichero.\n",
    "        for i in contenido:\n",
    "            # Obtenemos la clave dividiendo la línea por la coma y accediendo a la posición de la columna indicada.\n",
    "            clave = i.split(\",\")[numcol]\n",
    "            # Condicional para ver si la clave está ya en el diccionario.\n",
    "            if clave in dic_frec:\n",
    "                # Si la clave está ya en el diccionario incrementamos la frecuencia en 1.\n",
    "                dic_frec[clave] += 1\n",
    "            else:\n",
    "                # Si la clave no está en el diccionario, añadimos un nuevo par con la clave y frecuencia 1.\n",
    "                dic_frec[clave] = 1\n",
    "        # Condicional para ver si se quieren relativas (porcentajes)\n",
    "        if porcentaje:\n",
    "            # Si se quieren porcentajes.\n",
    "            # Calculamos el número de filas del fichero.\n",
    "            total = len(contenido)\n",
    "            # Bucle iterativo para recorrer el diccionario por clave y valor.\n",
    "            for clave, valor in dic_frec.items():\n",
    "                # Actualizamos la frecuencia del par dividiendo la frecuencia absoluta por el tamaño de la muestra y multiplicando por 100.\n",
    "                dic_frec[clave] = dic_frec[clave] / total * 100\n",
    "        # Devolvemos el diccionario con las frecuencias.\n",
    "        return dic_frec\n",
    "\n",
    "# Ejemplos      \n",
    "print(frecuencias(\"https://aprendeconalf.es/docencia/python/examenes/inteligencia-negocios/soluciones/examen-2022-06-24/bank-loans.csv\", \"education\"))\n",
    "print(frecuencias(\"https://aprendeconalf.es/docencia/python/examenes/inteligencia-negocios/soluciones/examen-2022-06-24/bank-loans.csv\", \"housing\", porcentaje = True))"
   ]
  }
 ],
 "metadata": {
  "interpreter": {
   "hash": "e7370f93d1d0cde622a1f8e1c04877d8463912d04d973331ad4851f04de6915a"
  },
  "kernelspec": {
   "display_name": "Python 3.10.4 64-bit",
   "language": "python",
   "name": "python3"
  },
  "language_info": {
   "codemirror_mode": {
    "name": "ipython",
    "version": 3
   },
   "file_extension": ".py",
   "mimetype": "text/x-python",
   "name": "python",
   "nbconvert_exporter": "python",
   "pygments_lexer": "ipython3",
   "version": "3.10.5"
  }
 },
 "nbformat": 4,
 "nbformat_minor": 2
}
