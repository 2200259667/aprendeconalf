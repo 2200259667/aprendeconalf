{
 "cells": [
  {
   "cell_type": "markdown",
   "metadata": {},
   "source": [
    "# Ejercicio\n",
    "\n",
    "El fichero [bank-loans.csv](https://aprendeconalf.es/docencia/python/examenes/inteligencia-negocios/soluciones/examen-2022-06-24/bank-loans.csv) contiene información sobre los préstamos de los clientes de un banco. Utilizando la librería Pandas, se pide:  \n",
    "\n",
    "- Crear un DataFrame importando los datos del fichero.\n",
    "- Mostrar por pantalla el nombre de las columnas del DataFrame. \n",
    "- Mostrar por pantalla las filas del DataFrame múltiplos de 10. \n",
    "- Mostrar por pantalla el número de clientes casados con edad entre 30 y 40 años. \n",
    "- Añadir al DataFrame una columna nueva con la edad en meses. \n",
    "- Mostrar por pantalla las frecuencias de los oficios ordenadas de mayor a menor. \n",
    "- Mostrar por pantalla las edades medias según el nivel de estudios. \n",
    "- Mostrar por pantalla el porcentaje de préstamos hipotecarios (housing) según el estado civil (marital). \n",
    "- Dibujar el diagrama de sectores con los porcentajes de los niveles de estudio y ponerle un título. \n",
    "- Dibujar en una misma figura el histograma y el diagrama de cajas de las edades. El histograma debe tener clases de amplitud 10 desde 20 hasta 70 años, y en color rojo."
   ]
  },
  {
   "cell_type": "markdown",
   "metadata": {},
   "source": [
    "# Solución"
   ]
  },
  {
   "cell_type": "code",
   "execution_count": 1,
   "metadata": {
    "tags": []
   },
   "outputs": [
    {
     "name": "stdout",
     "output_type": "stream",
     "text": [
      "Index(['age', 'job', 'marital', 'education', 'default', 'housing', 'loan'], dtype='object')\n",
      "      age          job   marital            education  default housing loan\n",
      "0      56    housemaid   married             basic.4y       no      no   no\n",
      "10     41  blue-collar   married              unknown  unknown      no   no\n",
      "20     30   unemployed   married          high.school       no      no   no\n",
      "30     46       admin.   married              unknown       no      no   no\n",
      "40     58   management   unknown    university.degree       no     yes   no\n",
      "...   ...          ...       ...                  ...      ...     ...  ...\n",
      "9950   49  blue-collar   married             basic.9y  unknown      no   no\n",
      "9960   51   unemployed   married          high.school  unknown     yes   no\n",
      "9970   43   technician    single  professional.course       no     yes   no\n",
      "9980   49       admin.  divorced    university.degree       no      no   no\n",
      "9990   35  blue-collar    single              unknown       no      no   no\n",
      "\n",
      "[1000 rows x 7 columns]\n",
      "2494\n",
      "      age          job   marital            education  default  housing  \\\n",
      "0      56    housemaid   married             basic.4y       no       no   \n",
      "1      57     services   married          high.school  unknown       no   \n",
      "2      37     services   married          high.school       no      yes   \n",
      "3      40       admin.   married             basic.6y       no       no   \n",
      "4      56     services   married          high.school       no       no   \n",
      "...   ...          ...       ...                  ...      ...      ...   \n",
      "9995   39  blue-collar   married             basic.4y  unknown      yes   \n",
      "9996   36   technician   married          high.school       no      yes   \n",
      "9997   33     services    single             basic.6y       no  unknown   \n",
      "9998   41   technician   married  professional.course  unknown      yes   \n",
      "9999   40     services  divorced              unknown       no      yes   \n",
      "\n",
      "         loan  months  \n",
      "0          no     672  \n",
      "1          no     684  \n",
      "2          no     444  \n",
      "3          no     480  \n",
      "4         yes     672  \n",
      "...       ...     ...  \n",
      "9995       no     468  \n",
      "9996       no     432  \n",
      "9997  unknown     396  \n",
      "9998       no     492  \n",
      "9999      yes     480  \n",
      "\n",
      "[10000 rows x 8 columns]\n",
      "blue-collar      2980\n",
      "admin.           2073\n",
      "technician       1365\n",
      "services         1172\n",
      "management        678\n",
      "entrepreneur      381\n",
      "self-employed     340\n",
      "housemaid         297\n",
      "retired           273\n",
      "unemployed        236\n",
      "unknown           125\n",
      "student            80\n",
      "Name: job, dtype: int64\n",
      "education\n",
      "basic.4y               45.147806\n",
      "basic.6y               39.448095\n",
      "basic.9y               39.228571\n",
      "high.school            38.313602\n",
      "illiterate             45.000000\n",
      "professional.course    40.367776\n",
      "university.degree      39.853485\n",
      "unknown                43.709278\n",
      "Name: age, dtype: float64\n",
      "marital   housing\n",
      "divorced  no         50.940018\n",
      "          yes        46.821844\n",
      "          unknown     2.238138\n",
      "married   no         51.987494\n",
      "          yes        45.183862\n",
      "          unknown     2.828644\n",
      "single    no         51.931131\n",
      "          yes        44.671940\n",
      "          unknown     3.396929\n",
      "unknown   no         64.705882\n",
      "          yes        35.294118\n",
      "Name: housing, dtype: float64\n"
     ]
    },
    {
     "data": {
      "image/png": "[encoded data removed]",
      "text/plain": [
       "<Figure size 432x288 with 1 Axes>"
      ]
     },
     "metadata": {},
     "output_type": "display_data"
    },
    {
     "data": {
      "image/png": "[encoded data removed]",
      "text/plain": [
       "<Figure size 432x288 with 2 Axes>"
      ]
     },
     "metadata": {
      "needs_background": "light"
     },
     "output_type": "display_data"
    }
   ],
   "source": [
    "import pandas as pd\n",
    "import matplotlib.pyplot as plt\n",
    "\n",
    "# Crear el DataFrame a partir de la url del fichero csv\n",
    "df = pd.read_csv(\"https://aprendeconalf.es/docencia/python/examenes/inteligencia-negocios/soluciones/examen-2022-06-24/bank-loans.csv\")\n",
    "# Mostrar el índice de las columnas\n",
    "print(df.columns)\n",
    "# Mostrar las filas múltiplo de 10\n",
    "print(df.iloc[range(0, len(df), 10)])\n",
    "# Mostrar el número de clientes casados entre 30 y 40 años\n",
    "print(len(df[(df.marital == \"married\") & (df.age > 30) & (df.age < 40)]))\n",
    "# Añadir una columna con la edad en meses.\n",
    "df[\"months\"] = df.age * 12\n",
    "print(df)\n",
    "# Frecuencias de oficios ordenados de mayor a menor\n",
    "print(df.job.value_counts().sort_values(ascending = False))\n",
    "# Calcular la edad media según el nivel de estudios\n",
    "print(df.groupby(\"education\").age.mean())\n",
    "# Calcular el porcentaje de prestamos hipotecarios según el estado civil\n",
    "print(df.groupby(\"marital\").housing.value_counts(normalize = True) * 100)\n",
    "# Diagrama de sectores de nivel de estudios\n",
    "fig, ax = plt.subplots()\n",
    "df.education.value_counts(normalize = True).plot(kind = \"pie\", title = \"Distribución del nivel de estudios\")\n",
    "plt.show()\n",
    "# Histograma y diagrama de cajas de edades\n",
    "fig, ax = plt.subplots(2)\n",
    "df.age.plot(kind = \"hist\", ax = ax[0], bins = range(20, 70,10), color = \"red\")\n",
    "df.age.plot(kind = \"box\", ax = ax[1], vert = False)\n",
    "plt.show()\n"
   ]
  }
 ],
 "metadata": {
  "interpreter": {
   "hash": "e7370f93d1d0cde622a1f8e1c04877d8463912d04d973331ad4851f04de6915a"
  },
  "kernelspec": {
   "display_name": "Python 3.10.4 64-bit",
   "language": "python",
   "name": "python3"
  },
  "language_info": {
   "codemirror_mode": {
    "name": "ipython",
    "version": 3
   },
   "file_extension": ".py",
   "mimetype": "text/x-python",
   "name": "python",
   "nbconvert_exporter": "python",
   "pygments_lexer": "ipython3",
   "version": "3.10.5"
  }
 },
 "nbformat": 4,
 "nbformat_minor": 2
}
