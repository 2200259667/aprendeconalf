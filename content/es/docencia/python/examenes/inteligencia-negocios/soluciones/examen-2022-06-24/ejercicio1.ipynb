{
 "cells": [
  {
   "cell_type": "markdown",
   "metadata": {},
   "source": [
    "# Ejercicio\n",
    "\n",
    "Las matemáticas financieras, resumidas en una frase, las podríamos definir como la rama de las matemáticas que estudia los flujos de dinero a través del tiempo. Básicamente se presupone que el dinero tiene menos valor en el futuro que en el presente, ya sea por un tema inflacionario o por la preferencia natural de las personas a priorizar el consumo presente. \n",
    "\n",
    "El valor futuro es el valor alcanzado por un determinado capital al final del período determinado (para el ejemplo usaremos la fórmula del interés compuesto). Para calcularlo se utiliza la siguiente fórmula\n",
    "\n",
    "$$VF = VA\\cdot (1 + i)^n$$\n",
    "\n",
    "El valor presente de una inversión es cuando calculamos el valor actual que tendrá una determinada cantidad que recibiremos o pagaremos en un futuro. Para calcularlo se utiliza la siguiente fórmula\n",
    "\n",
    "$$VA = \\frac{VF}{(1 + i)^n}$$\n",
    "\n",
    "Donde $VF$ es el valor futuro, $VA$ es el valor actual o inicial de la inversión, $i$ es el tipo de interés y $n$ es número de años de la inversión.\n",
    "\n",
    "1. Crear una función que reciba como entrada un capital, un tipo de interés y un número de años, y muestre por pantalla el valor futuro de la inversión cada año del periodo indicado.\n",
    "2. Crear una función que reciba como entrada un capital, un tipo de interés y un número de años, y muestre por pantalla el valor actual del capital cada año del periodo indicado.\n",
    "\n",
    "**Ejemplo de ejecución**\n",
    "\n",
    "```sh\n",
    "Introduce un capital: 1000\n",
    "Introduce un tipo de interés: 10\n",
    "Introduce un número de años: 3\n",
    "VALOR FUTURO\n",
    "Año 0 : 1100.0\n",
    "Año 1 : 1210.0000000000002\n",
    "Año 2 : 1331.0000000000005\n",
    "VALOR ACTUAL\n",
    "Año 0 : 909.090909090909\n",
    "Año -1 : 826.4462809917354\n",
    "Año -2 : 751.3148009015775\n",
    "```"
   ]
  },
  {
   "cell_type": "markdown",
   "metadata": {},
   "source": [
    "# Solución"
   ]
  },
  {
   "cell_type": "code",
   "execution_count": 1,
   "metadata": {
    "tags": []
   },
   "outputs": [
    {
     "name": "stdout",
     "output_type": "stream",
     "text": [
      "VALOR FUTURO\n",
      "Año 0 : 1100.0\n",
      "Año 1 : 1210.0000000000002\n",
      "Año 2 : 1331.0000000000005\n",
      "VALOR ACTUAL\n",
      "Año 0 : 909.090909090909\n",
      "Año -1 : 826.4462809917354\n",
      "Año -2 : 751.3148009015775\n"
     ]
    }
   ],
   "source": [
    "def vf(capital, tipo, periodo):\n",
    "    '''\n",
    "    Función que muestra por pantalla el valor futuro de una inversión cada año de un periodo dado.\n",
    "    Parámetros: \n",
    "        - capital: Es un real con el capital inicial de la inversión.\n",
    "        - tipo: Es un real con el tipo de interés anual.\n",
    "        - periodo: Es un entero con el número de años de la inversión.\n",
    "    '''\n",
    "    # Bucle iterativo para recorrer la secuencia de años.\n",
    "    for i in range(periodo):\n",
    "        # Aplicamos la fórmula para el cálculo del valor futuro para cada año i. \n",
    "        print(\"Año\", i, \":\", capital * (1 + tipo / 100) ** (i + 1))\n",
    "    return\n",
    " \n",
    "def va(capital, tipo, periodo):\n",
    "    '''\n",
    "    Función que muestra por pantalla el valor actual de una inversión cada año de un periodo dado.\n",
    "    Parámetros: \n",
    "        - capital: Es un real con el capital final de la inversión.\n",
    "        - tipo: Es un real con el tipo de interés anual.\n",
    "        - periodo: Es un entero con el número de años de la inversión.\n",
    "    ''' \n",
    "    # Bucle iterativo para recorrer la secuencia de años.\n",
    "    for i in range(periodo): \n",
    "         # Aplicamos la fórmula para el cálculo del valor actual para cada año i. \n",
    "        print(\"Año\", -i, \":\", capital / (1 + tipo / 100) ** (i + 1))\n",
    "    return\n",
    "\n",
    "# Ejemplo\n",
    "cantidad = float(input(\"Introduce un capital: \"))\n",
    "tipo = float(input(\"Introduce un tipo de interés: \"))\n",
    "años = int(input(\"Introduce un número de años: \"))\n",
    "print(\"VALOR FUTURO\")\n",
    "vf(cantidad, tipo, años)\n",
    "print(\"VALOR ACTUAL\")\n",
    "va(cantidad, tipo, años)"
   ]
  }
 ],
 "metadata": {
  "interpreter": {
   "hash": "e7370f93d1d0cde622a1f8e1c04877d8463912d04d973331ad4851f04de6915a"
  },
  "kernelspec": {
   "display_name": "Python 3.10.4 64-bit",
   "language": "python",
   "name": "python3"
  },
  "language_info": {
   "codemirror_mode": {
    "name": "ipython",
    "version": 3
   },
   "file_extension": ".py",
   "mimetype": "text/x-python",
   "name": "python",
   "nbconvert_exporter": "python",
   "pygments_lexer": "ipython3",
   "version": "3.10.5"
  }
 },
 "nbformat": 4,
 "nbformat_minor": 2
}
