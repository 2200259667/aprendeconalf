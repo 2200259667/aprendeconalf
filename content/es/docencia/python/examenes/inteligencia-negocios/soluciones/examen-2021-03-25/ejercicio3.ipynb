{
 "cells": [
  {
   "cell_type": "markdown",
   "metadata": {},
   "source": [
    "# Ejercicio 3\n",
    "\n",
    "Los productos en oferta de una tienda de informática se guardan una cadena como la de más abajo, donde cada línea (separadas por el carácter de cambio de línea ‘\\n’) contiene el nombre del producto, el número de unidades en stock, el precio (en €) y el descuento que tiene (en porcentaje), separados por punto y coma.\n",
    "\n",
    "```python\n",
    "'disco duro 500Gb;200;25;15\\nmemoria ram 16Gb;500;30;20\\nratón inalámbrico;800;12;10\\ntarjeta wifi;150;20;12'\n",
    "```\n",
    "\n",
    "Construir un programa que genere, a partir de la cadena anterior, un diccionario como el de más abajo, donde cada par corresponda un producto, siendo la clave el nombre del producto y el valor una lista con el resto de la información del producto.\n",
    "\n",
    "```python\n",
    "{‘disco duro 500Gb’: [‘200’, ‘25’, ‘15’], ‘memoria ram 16Gb’: [‘500’, ‘30’, ‘20’], ‘ratón inalámbrico’: [‘800’, ‘12’, ‘10’], ‘tarjeta wifi’: [‘150’, ‘20’, ‘12’]}\n",
    "```\n",
    "\n",
    "Después el programa debe recorrer el diccionario y mostrar por pantalla un listado con los nombres de todos los productos en oferta y su precio final tras aplicar el descuento."
   ]
  },
  {
   "cell_type": "markdown",
   "metadata": {},
   "source": [
    "# Solución"
   ]
  },
  {
   "cell_type": "code",
   "execution_count": 1,
   "metadata": {
    "tags": []
   },
   "outputs": [
    {
     "output_type": "stream",
     "name": "stdout",
     "text": [
      "disco duro 500Gb vale 21.25 €\nmemoria ram 16Gb vale 24.0 €\nratón inalámbrico vale 10.8 €\ntarjeta wifi vale 17.6 €\n"
     ]
    }
   ],
   "source": [
    "# Guardamos la cadena con los productos en oferta en una\n",
    "cadena_ofertas = 'disco duro 500Gb;200;25;15\\nmemoria ram 16Gb;500;30;20\\nratón inalámbrico;800;12;10\\ntarjeta wifi;150;20;12'\n",
    "# Partimos la cadena por el carácter de cambio de línea '\\n' y creamos una lista\n",
    "# de subcadenas, donde cada subcadena contiene los datos de un producto.\n",
    "lista_ofertas = cadena_ofertas.split('\\n')\n",
    "# Creamos un diccionario vacío para guardar los productos\n",
    "ofertas = {}\n",
    "# Bucle iterativo para recorrer la lista con las cadenas que contiene la \n",
    "# información de los productos y crear el diccionario de productos.\n",
    "# i toma como valores cada una de las subcadenas.\n",
    "for i in lista_ofertas:\n",
    "    # Partimos la subcadena i por el carácter ';' y creamos una lista de \n",
    "    # subcadenas donde cada subcadena contiene una información del producto\n",
    "    info = i.split(';')\n",
    "    # Añadimos al diccionario la sublista desde el segundo elemento hasta el final,\n",
    "    # usando como clave el primer elemento de la lista, que es el nombre del producto.\n",
    "    ofertas[info[0]] = info[1:]\n",
    "# Bucle iterativo para recorrer el diccionario que hemos creado por pares.\n",
    "# producto recorre las claves y info los valores de los pares del diccionario.\n",
    "for producto, info in ofertas.items():\n",
    "    # Calculamos el precio final del producto aplicando su correspondiente descuento.\n",
    "    precio = float(info[1]) * (1 - float(info[2]) / 100)\n",
    "    # Mostramos por pantalla el nombre del producto y su precio final.\n",
    "    print(producto, 'vale', precio, '€')"
   ]
  }
 ],
 "metadata": {
  "kernelspec": {
   "display_name": "Python 3",
   "language": "python",
   "name": "python3"
  },
  "language_info": {
   "codemirror_mode": {
    "name": "ipython",
    "version": 3
   },
   "file_extension": ".py",
   "mimetype": "text/x-python",
   "name": "python",
   "nbconvert_exporter": "python",
   "pygments_lexer": "ipython3",
   "version": "3.9.2-final"
  }
 },
 "nbformat": 4,
 "nbformat_minor": 2
}