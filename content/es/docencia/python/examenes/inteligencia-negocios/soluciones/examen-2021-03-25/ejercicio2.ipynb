{
 "cells": [
  {
   "cell_type": "markdown",
   "metadata": {},
   "source": [
    "# Ejercicio 2\n",
    "\n",
    "Juan juega siempre la misma combinación a la bonoloto: 7, 13, 21, 37, 46, 49.\n",
    "\n",
    "Construir un programa que pregunte al usuario por la combinación ganadora y diga si Juan ha ganado o, en caso contrario, muestre por pantalla la lista de los números que no ha acertado. El programa debe usar listas.\n",
    "\n",
    "Nota: El juego de la bonoloto consiste en acertar una combinación de 6 números entre 1 y 49."
   ]
  },
  {
   "cell_type": "markdown",
   "metadata": {},
   "source": [
    "# Solución"
   ]
  },
  {
   "cell_type": "code",
   "execution_count": 1,
   "metadata": {
    "tags": []
   },
   "outputs": [
    {
     "output_type": "stream",
     "name": "stdout",
     "text": [
      "Los siento, no acertaste los siguientes números: [2, 44, 38, 25]\n"
     ]
    }
   ],
   "source": [
    "# Guardamos la combinación de Juan en una lista.\n",
    "combinacion = [7, 13, 21, 37, 46, 50]\n",
    "# Bucle iterativo para preguntar los números de la combinación ganadora.\n",
    "# i toma valores de 0 a 5, de manera que el bucle da 6 vueltas.\n",
    "fallos = []\n",
    "for i in range(6):\n",
    "    # Preguntamos al usuario por el siguiente número de la combinación ganadora.\n",
    "    num = int(input('Introduce el siguiente número de la combinación ganadora: '))\n",
    "    # Condicional. Si el número de la combinación ganadora no está en la lista de\n",
    "    # de Juan, lo añadimos a la lista de fallos.\n",
    "    if not num in combinacion:\n",
    "        fallos.append(num)\n",
    "# Condicional. Si al comprobar todos los números de la combinación ganadora la \n",
    "# lista de fallos está vacía, es que ha ganado.\n",
    "if len(fallos) == 0:\n",
    "    print('¡Enhorabuena, ganaste!')\n",
    "# En caso contrario, Juan no ha ganado y mostramos los números que quedan en la \n",
    "# lista, que son los que no han salido en la combinación ganadora.\n",
    "else:\n",
    "    print('Los siento, no acertaste los siguientes números:', fallos)"
   ]
  },
  {
   "cell_type": "code",
   "execution_count": null,
   "metadata": {},
   "outputs": [],
   "source": []
  }
 ],
 "metadata": {
  "kernelspec": {
   "display_name": "Python 3",
   "language": "python",
   "name": "python3"
  },
  "language_info": {
   "codemirror_mode": {
    "name": "ipython",
    "version": 3
   },
   "file_extension": ".py",
   "mimetype": "text/x-python",
   "name": "python",
   "nbconvert_exporter": "python",
   "pygments_lexer": "ipython3",
   "version": "3.9.2-final"
  }
 },
 "nbformat": 4,
 "nbformat_minor": 2
}