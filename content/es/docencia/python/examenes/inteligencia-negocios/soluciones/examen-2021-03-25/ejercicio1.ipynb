{
 "cells": [
  {
   "cell_type": "markdown",
   "metadata": {},
   "source": [
    "# Ejercicio 1\n",
    "\n",
    "El cálculo del IRPF en la Hacienda española se define como progresivo. Hacienda divide los ingresos (tu renta) en tramos y asigna un porcentaje a pagar en cada uno de ellos. Estos tramos son los siguientes:\n",
    "\n",
    "| Tramos IRPF 2021       | Tipos a aplicar |\n",
    "| :--------------------- | :-------------: |\n",
    "| Desde 0 hasta 12.450€  |       19%       |\n",
    "| De 12.450€ a 20.200€   |       24%       |\n",
    "| De 20.200€ a 35.200€   |       30%       |\n",
    "| De 35.200€ en adelante |       37%       |\n",
    "\n",
    "Por ejemplo, para una persona con una renta de 65.000€, el cálculo del impuesto se haría así:\n",
    "\n",
    "- Primer tramo IRPF: se paga el 19% de 12.450 euros, es decir, 2.365,5 euros\n",
    "- Segundo tramo IRPF: se paga el 24% de 7.750 euros (la diferencia entre el primer y segundo tramo), es decir, 1.860 euros.\n",
    "- Tercer tramo IRPF: se paga el 30% de 15.000 euros (la diferencia entre el segundo y tercer tramo), es decir, 4.500 euros.\n",
    "- Cuarto tramo IRPF: se paga el 37% de 29.800 euros (la diferencia entre su renta y el límite del tercer tramo), es decir, 11.026 euros.\n",
    "\n",
    "La suma de las anteriores cantidades es el total a pagar: 19.751,5 euros.\n",
    "\n",
    "Escribir un programa que pregunte por la renta del usuario y muestre por pantalla el IRPF que debe pagar a Hacienda."
   ]
  },
  {
   "cell_type": "markdown",
   "metadata": {},
   "source": [
    "# Solución 1"
   ]
  },
  {
   "cell_type": "code",
   "execution_count": 1,
   "metadata": {
    "tags": []
   },
   "outputs": [
    {
     "output_type": "stream",
     "name": "stdout",
     "text": [
      "Tienes que pagar: 19751.5\n"
     ]
    }
   ],
   "source": [
    "# Preguntamos por la renta\n",
    "renta = int(input('Introduce tu renta: '))\n",
    "# Condicional. Si la renta es menor que 12450€ aplicamos un tipo del 19%.\n",
    "if (renta < 12450):\n",
    "    impuesto = renta * 0.19 \n",
    "# Si la renta es mayor que 12450€ y menor que 20200€ aplicamos el 19% a los \n",
    "# primeros 12450€ y un 24% al resto.\n",
    "elif (renta < 20200):\n",
    "    impuesto = 12450 * 0.19 + (renta - 12450) * 0.24 \n",
    "# Si la renta es mayor que 20200€ y menor que 35200€ aplicamos el 19% a los \n",
    "# primeros 12450€, el 24% a los siguientes 7750€ y el 30% al resto.\n",
    "elif (renta < 35200): \n",
    "    impuesto = 12450 * 0.19 + (20200 - 12450) * 0.24 + (renta - 20200) * 0.3\n",
    "# Finalmente, si la renta es mayor que 35200€ aplicamos el 19% a los primeros\n",
    "# 12450€, el 24% a los siguientes 7750€, el 30% a los siguientes 150000€ y el\n",
    "# 37% al resto.\n",
    "else: \n",
    "    impuesto = 12450 * 0.19 + (20200 - 12450) * 0.24 + (35200 - 20200) * 0.3 + (renta - 35200) * 0.37  \n",
    "# Mostramos por pantalla el total del impuesto a pagar.\n",
    "print('Tienes que pagar:', impuesto) "
   ]
  }
 ],
 "metadata": {
  "kernelspec": {
   "display_name": "Python 3",
   "language": "python",
   "name": "python3"
  },
  "language_info": {
   "codemirror_mode": {
    "name": "ipython",
    "version": 3
   },
   "file_extension": ".py",
   "mimetype": "text/x-python",
   "name": "python",
   "nbconvert_exporter": "python",
   "pygments_lexer": "ipython3",
   "version": "3.9.2-final"
  }
 },
 "nbformat": 4,
 "nbformat_minor": 2
}