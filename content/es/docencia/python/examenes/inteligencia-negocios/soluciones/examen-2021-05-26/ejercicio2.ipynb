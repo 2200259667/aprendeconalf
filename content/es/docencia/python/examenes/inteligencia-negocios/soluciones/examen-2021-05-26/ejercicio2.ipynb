{
 "cells": [
  {
   "cell_type": "markdown",
   "metadata": {},
   "source": [
    "# Ejercicio\n",
    "\n",
    "Escribir una función que, dado un número `x`, genere una matriz cuadrada (`x*x` elementos) con el resultado de sus tablas de multiplicar desde 0 hasta `x`. El resultado debe guardarse en un fichero llamado `tabla-X.txt` donde `X` es el número introducido por el usuario.\n",
    "\n",
    "Escribir otra función que, dado un número `x`, acceda al fichero de la tabla correspondiente y muestre la tabla por pantalla. En caso de que la tabla no exista deberá controlar la excepción para mostrar un mensaje de aviso al usuario.\n",
    "\n",
    "Ejemplo:\n",
    "\n",
    "```sh\n",
    ">>> Introduce un número entre 1 y 10: 5\n",
    ">>> Contenido del fichero matriz-5.txt\n",
    "0    0    0    0    0    0\n",
    "0    1    2    3    4    5\n",
    "0    2    4    6    8    10\n",
    "0    3    6    9    12   15\n",
    "0    4    8    12   16   20\n",
    "0    5    10   15   20   25\n",
    "```"
   ]
  },
  {
   "cell_type": "markdown",
   "metadata": {},
   "source": [
    "# Solución"
   ]
  },
  {
   "cell_type": "code",
   "execution_count": 3,
   "metadata": {
    "tags": []
   },
   "outputs": [
    {
     "output_type": "stream",
     "name": "stdout",
     "text": [
      "Contenido del fichero tabla-5.txt:\n0\t0\t0\t0\t0\t0\t\n0\t1\t2\t3\t4\t5\t\n0\t2\t4\t6\t8\t10\t\n0\t3\t6\t9\t12\t15\t\n0\t4\t8\t12\t16\t20\t\n0\t5\t10\t15\t20\t25\t\n\n"
     ]
    }
   ],
   "source": [
    "def generar_tabla(n):\n",
    "    '''Función que crea un fichero con la tabla de multiplicar cuadrada de un número dado.\n",
    "    \n",
    "    Parámetros:\n",
    "      - n: Es un número entero entre 1 y 10.\n",
    "    '''\n",
    "    # Creamos el nombre del fichero.\n",
    "    nombre_fichero = \"tabla-\" + str(n) + \".txt\"\n",
    "    # Abrimos el fichero en modo escritura.\n",
    "    f = open(nombre_fichero, 'w')\n",
    "    # Bucle iterativo para recorrer las filas de la tabla.\n",
    "    # i toma como valores los enteros de 0 a n.\n",
    "    for i in range(n+1):\n",
    "        # Bucle anidado iterativo para recorrer las columnas de la tabla.\n",
    "        # j toma como valores los enteros de 0 a n.\n",
    "        for j in range(n+1):\n",
    "            # Escribimos en el fichero el producto de i por j y añadimos un espacio o tabulador.\n",
    "            f.write(str(i*j) + \"\\t\")\n",
    "        # Una vez recorridas todas las columnas escribimos en el fichero un cambio de línea para pasar a la siguiente línea.\n",
    "        f.write(\"\\n\")\n",
    "    # Cerramos el fichero\n",
    "    f.close()\n",
    "    return\n",
    "\n",
    "def leer_tabla(n):\n",
    "    '''Función que lee un fichero con una tabla de multiplicar cuadrada de un número dado y la muestra por pantalla.\n",
    "    \n",
    "    Parámetros:\n",
    "      - n: Es un número entero entre 1 y 10.\n",
    "    '''\n",
    "    # Creamos el nombre del fichero.\n",
    "    nombre_fichero = \"tabla-\" + str(n) + \".txt\"\n",
    "    print(\"Contenido del fichero \" + nombre_fichero + \":\")\n",
    "    try:\n",
    "        # Intentamos abrir el fichero en modo lectura.\n",
    "        fichero = open(nombre_fichero, 'r')\n",
    "    except FileNotFoundError: \n",
    "        # Si el fichero no existe mostramos por pantalla un mensaje de aviso.\n",
    "        print(\"El fichero no existe\")\n",
    "    else:\n",
    "        # Leemos el contenido del fichero y lo mostramos por pantalla.\n",
    "        print(fichero.read())\n",
    "        # Cerramos el fichero.\n",
    "        fichero.close()\n",
    "\n",
    "n = int(input(\"Introduce un número entero entre 1 y 10: \"))\n",
    "generar_tabla(n)\n",
    "leer_tabla(n)"
   ]
  },
  {
   "cell_type": "code",
   "execution_count": null,
   "metadata": {},
   "outputs": [],
   "source": []
  }
 ],
 "metadata": {
  "kernelspec": {
   "display_name": "Python 3",
   "language": "python",
   "name": "python3"
  },
  "language_info": {
   "codemirror_mode": {
    "name": "ipython",
    "version": 3
   },
   "file_extension": ".py",
   "mimetype": "text/x-python",
   "name": "python",
   "nbconvert_exporter": "python",
   "pygments_lexer": "ipython3",
   "version": "3.9.5-final"
  }
 },
 "nbformat": 4,
 "nbformat_minor": 2
}